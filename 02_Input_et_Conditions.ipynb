{
  "cells": [
    {
      "cell_type": "markdown",
      "metadata": {
        "id": "sLEtX9TSomo7"
      },
      "source": [
        "Dans ce notebook, nous verrons comment demander des informations à l'utilisateur avec Python et aussi comment prendre des décisions en fonction de conditions."
      ]
    },
    {
      "cell_type": "markdown",
      "metadata": {
        "id": "gBjGRZ3Qomo8"
      },
      "source": [
        "# Recevoir des données de l'utilisateur"
      ]
    },
    {
      "cell_type": "markdown",
      "metadata": {
        "id": "RC1k1HKuomo9"
      },
      "source": [
        "Recevoir des données de l'utilisateur est une étape importante dans notre aventure d'apprentissage de Python. Désormais on laissera l'utilisateur nous dire la donnée qu'il faut stocker dans une variable."
      ]
    },
    {
      "cell_type": "markdown",
      "metadata": {
        "id": "Ezy8egVQomo9"
      },
      "source": [
        "Dans ce premier exemple, on demandera simplement à l'utilisateur son nom. On utilise la fonction `input()` comme ceci:"
      ]
    },
    {
      "cell_type": "code",
      "execution_count": null,
      "metadata": {
        "id": "G9_RYYCSomo9",
        "outputId": "3cef4c45-0529-4584-e0b1-afc8bd224637"
      },
      "outputs": [
        {
          "name": "stdout",
          "output_type": "stream",
          "text": [
            "Quel est ton nom : Bob\n"
          ]
        }
      ],
      "source": [
        "nom = input(\"Quel est ton nom : \")"
      ]
    },
    {
      "cell_type": "code",
      "execution_count": null,
      "metadata": {
        "id": "9fr5Z5ypomo-",
        "outputId": "a8a09557-36b0-4136-c902-56a079c3c2cd"
      },
      "outputs": [
        {
          "data": {
            "text/plain": [
              "'Bob'"
            ]
          },
          "execution_count": 2,
          "metadata": {},
          "output_type": "execute_result"
        }
      ],
      "source": [
        "nom"
      ]
    },
    {
      "cell_type": "markdown",
      "metadata": {
        "id": "fSsTaxwYomo_"
      },
      "source": [
        "On peut ajouter apparemment un petit message. C'est parfait. Faisons un autre exemple où on demandera à l'utilisateur son nom et son mot de passe et on lui affichera un petit message sympa."
      ]
    },
    {
      "cell_type": "code",
      "execution_count": null,
      "metadata": {
        "id": "NP3E8EQUomo_",
        "outputId": "33a3529b-7d36-4ef2-8f63-1a84474a88e0"
      },
      "outputs": [
        {
          "name": "stdout",
          "output_type": "stream",
          "text": [
            "Quel est ton nom d'utilisateur: bob\n",
            "Quel est ton mot de passe: 123\n",
            "Bonjour  bob  Votre mot de passe n'est pas sécurisé pour le moment. Je peux le lire, c'est :  123\n"
          ]
        }
      ],
      "source": [
        "username = input(\"Quel est ton nom d'utilisateur: \")\n",
        "password = input(\"Quel est ton mot de passe: \")\n",
        "print(\"Bonjour \",username, \" Votre mot de passe n'est pas sécurisé pour le moment. Je peux le lire, c'est : \", password)"
      ]
    },
    {
      "cell_type": "markdown",
      "metadata": {
        "id": "EuBwxqYuompA"
      },
      "source": [
        "Une question :  Quel est le type de la donnée qu'on reçoit ?"
      ]
    },
    {
      "cell_type": "code",
      "execution_count": null,
      "metadata": {
        "id": "XhECCmVTompA",
        "outputId": "115bac2b-3f2c-4c52-ccaa-3c9d9c38c89b"
      },
      "outputs": [
        {
          "name": "stdout",
          "output_type": "stream",
          "text": [
            "Quel est ton age: 25\n"
          ]
        }
      ],
      "source": [
        "age = input(\"Quel est ton age: \")"
      ]
    },
    {
      "cell_type": "code",
      "execution_count": null,
      "metadata": {
        "id": "NnMGV5ohompA",
        "outputId": "9799b346-8027-480f-88f9-035f98c00879"
      },
      "outputs": [
        {
          "data": {
            "text/plain": [
              "str"
            ]
          },
          "execution_count": 5,
          "metadata": {},
          "output_type": "execute_result"
        }
      ],
      "source": [
        "type(age)"
      ]
    },
    {
      "cell_type": "code",
      "execution_count": null,
      "metadata": {
        "id": "hCq_i_vTompB",
        "outputId": "15642d85-10cd-4019-d9b5-0457d0d60fa6"
      },
      "outputs": [
        {
          "data": {
            "text/plain": [
              "'25'"
            ]
          },
          "execution_count": 6,
          "metadata": {},
          "output_type": "execute_result"
        }
      ],
      "source": [
        "age"
      ]
    },
    {
      "cell_type": "markdown",
      "metadata": {
        "id": "9Wt7zGodompB"
      },
      "source": [
        "La fonction input nous renvoit donc une chaîne de caractère même quand on rentre un nombre. Heureusement qu'on a donc appris dans le précédent notebook à changer le type d'une variable (type casting en anglais)."
      ]
    },
    {
      "cell_type": "code",
      "execution_count": null,
      "metadata": {
        "id": "ELBSE_n3ompB"
      },
      "outputs": [],
      "source": [
        "age = int(age)"
      ]
    },
    {
      "cell_type": "code",
      "execution_count": null,
      "metadata": {
        "id": "KZSwWZH7ompC",
        "outputId": "0acd668c-5168-49de-d140-88c13007c5e6"
      },
      "outputs": [
        {
          "data": {
            "text/plain": [
              "25"
            ]
          },
          "execution_count": 8,
          "metadata": {},
          "output_type": "execute_result"
        }
      ],
      "source": [
        "age"
      ]
    },
    {
      "cell_type": "code",
      "execution_count": null,
      "metadata": {
        "id": "L_mPaahHompC",
        "outputId": "991694a4-11c9-47bd-d82f-8e8062e50bd5"
      },
      "outputs": [
        {
          "data": {
            "text/plain": [
              "int"
            ]
          },
          "execution_count": 9,
          "metadata": {},
          "output_type": "execute_result"
        }
      ],
      "source": [
        "type(age)"
      ]
    },
    {
      "cell_type": "markdown",
      "metadata": {
        "id": "9u09_xnYompC"
      },
      "source": [
        "Et si on changeait le type sur la même ligne qu'on reçoit l'entrée :"
      ]
    },
    {
      "cell_type": "code",
      "execution_count": null,
      "metadata": {
        "id": "hGmzi_xVompC",
        "outputId": "2c5a8a6b-5dea-40ad-8cd0-4f29fac4ff76"
      },
      "outputs": [
        {
          "name": "stdout",
          "output_type": "stream",
          "text": [
            "Quel est ton age: 45\n"
          ]
        }
      ],
      "source": [
        "age = int(input(\"Quel est ton age: \"))"
      ]
    },
    {
      "cell_type": "code",
      "execution_count": null,
      "metadata": {
        "id": "1qhku7aHompD",
        "outputId": "af8cbd03-0c07-474f-f5ad-a005b7b496bb"
      },
      "outputs": [
        {
          "data": {
            "text/plain": [
              "45"
            ]
          },
          "execution_count": 11,
          "metadata": {},
          "output_type": "execute_result"
        }
      ],
      "source": [
        "age"
      ]
    },
    {
      "cell_type": "code",
      "execution_count": null,
      "metadata": {
        "id": "bEacVM8xompD",
        "outputId": "08c416f2-12fc-4921-ca45-631d7cf84058"
      },
      "outputs": [
        {
          "data": {
            "text/plain": [
              "int"
            ]
          },
          "execution_count": 12,
          "metadata": {},
          "output_type": "execute_result"
        }
      ],
      "source": [
        "type(age)"
      ]
    },
    {
      "cell_type": "markdown",
      "metadata": {
        "id": "JtclpQMTompD"
      },
      "source": [
        "> Reflection : Maintenant qu'on sait qu'on comment avoir des entrées de la part de l'utilisateur, Ayons un peu plus d'ambitions. On demandera à l'utilisateur de rentrer son nom, et mot de passe 2 fois un peu comme sur les sites quand il faut s'inscrire. Faudra donc vérifier si les 2 mots de passe sont égaux. On ne sait pas le faire, apprenons comment alors:"
      ]
    },
    {
      "cell_type": "markdown",
      "metadata": {
        "id": "c6M68YruompD"
      },
      "source": [
        "# Mon programme prend des décisions"
      ]
    },
    {
      "cell_type": "markdown",
      "metadata": {
        "id": "pkvL50rwompE"
      },
      "source": [
        "Dans cette partie, nous allons voir le concept de conditions et comment laisser notre programme prendre des décisions tout seul."
      ]
    },
    {
      "cell_type": "markdown",
      "metadata": {
        "id": "H7LfuGc4ompE"
      },
      "source": [
        "## Conditions"
      ]
    },
    {
      "cell_type": "markdown",
      "metadata": {
        "id": "uf4Dms6compE"
      },
      "source": [
        "C'est quoi une condition en programmation: C'est une question dont la réponse est Vrai (`True`) ou Faux (`False`).\n",
        "Exemple : Est-ce que l'age de l'utilisateur est supérieur à 15 ? Est-ce que la liste a moins de 5 éléments ? Est-ce que \"Kevin\" est dans notre annuaire (dictionnaire `Ref notebook précédent`) ?"
      ]
    },
    {
      "cell_type": "markdown",
      "metadata": {
        "id": "V8jNQCoCompE"
      },
      "source": [
        "Dans la suite, on va créer des variables et poser plein de questions à notre code (Pour voir si elle est intelligente haha:)"
      ]
    },
    {
      "cell_type": "code",
      "execution_count": null,
      "metadata": {
        "id": "ccekvos3ompE"
      },
      "outputs": [],
      "source": [
        "n = 25"
      ]
    },
    {
      "cell_type": "code",
      "execution_count": null,
      "metadata": {
        "id": "Fsrg1DDSompE",
        "outputId": "2fce6387-fb9f-4aba-ad1c-9600a2afca94"
      },
      "outputs": [
        {
          "data": {
            "text/plain": [
              "False"
            ]
          },
          "execution_count": 14,
          "metadata": {},
          "output_type": "execute_result"
        }
      ],
      "source": [
        "n > 36"
      ]
    },
    {
      "cell_type": "code",
      "execution_count": null,
      "metadata": {
        "id": "A1LsCbJvompE",
        "outputId": "ac853abc-9013-48e2-fdb9-2a72f6a766ea"
      },
      "outputs": [
        {
          "data": {
            "text/plain": [
              "False"
            ]
          },
          "execution_count": 15,
          "metadata": {},
          "output_type": "execute_result"
        }
      ],
      "source": [
        "n < 18"
      ]
    },
    {
      "cell_type": "code",
      "execution_count": null,
      "metadata": {
        "id": "l729Z2-EompE",
        "outputId": "539fd76d-78e7-4967-adc9-0a541d81abf8"
      },
      "outputs": [
        {
          "data": {
            "text/plain": [
              "True"
            ]
          },
          "execution_count": 16,
          "metadata": {},
          "output_type": "execute_result"
        }
      ],
      "source": [
        "n == 25"
      ]
    },
    {
      "cell_type": "code",
      "execution_count": null,
      "metadata": {
        "id": "K0iFQvU0ompE",
        "outputId": "3f38c5ac-8eea-46c1-a59f-040e672f8a1f"
      },
      "outputs": [
        {
          "data": {
            "text/plain": [
              "False"
            ]
          },
          "execution_count": 17,
          "metadata": {},
          "output_type": "execute_result"
        }
      ],
      "source": [
        "n != 25"
      ]
    },
    {
      "cell_type": "code",
      "execution_count": null,
      "metadata": {
        "id": "jF4HZ7i3ompE",
        "outputId": "e626579f-ad15-4757-dd6c-ef415ef974b9"
      },
      "outputs": [
        {
          "data": {
            "text/plain": [
              "True"
            ]
          },
          "execution_count": 18,
          "metadata": {},
          "output_type": "execute_result"
        }
      ],
      "source": [
        "n >= 25"
      ]
    },
    {
      "cell_type": "code",
      "execution_count": null,
      "metadata": {
        "id": "DzwIT0wdompF",
        "outputId": "4202f1aa-c798-4337-e78c-d8910b117793"
      },
      "outputs": [
        {
          "data": {
            "text/plain": [
              "False"
            ]
          },
          "execution_count": 19,
          "metadata": {},
          "output_type": "execute_result"
        }
      ],
      "source": [
        "n <= 15.56"
      ]
    },
    {
      "cell_type": "code",
      "execution_count": null,
      "metadata": {
        "id": "nOtGMeT5ompF"
      },
      "outputs": [],
      "source": [
        "langage = \"Python\""
      ]
    },
    {
      "cell_type": "code",
      "execution_count": null,
      "metadata": {
        "id": "4uLJT1X3ompF",
        "outputId": "5511ccc9-8bc3-48ce-a08a-110ed8a2b847"
      },
      "outputs": [
        {
          "data": {
            "text/plain": [
              "False"
            ]
          },
          "execution_count": 21,
          "metadata": {},
          "output_type": "execute_result"
        }
      ],
      "source": [
        "langage == \"Javascript\""
      ]
    },
    {
      "cell_type": "code",
      "execution_count": null,
      "metadata": {
        "id": "bIOnqifFompF",
        "outputId": "582fc20a-90cd-4fb9-8689-749ebff38f1a"
      },
      "outputs": [
        {
          "data": {
            "text/plain": [
              "True"
            ]
          },
          "execution_count": 22,
          "metadata": {},
          "output_type": "execute_result"
        }
      ],
      "source": [
        "len(langage) > 5"
      ]
    },
    {
      "cell_type": "code",
      "execution_count": null,
      "metadata": {
        "id": "_IUVx911ompF",
        "outputId": "f38d31eb-75e1-457d-c13f-05e54eba6fd9"
      },
      "outputs": [
        {
          "data": {
            "text/plain": [
              "True"
            ]
          },
          "execution_count": 23,
          "metadata": {},
          "output_type": "execute_result"
        }
      ],
      "source": [
        "'n' in langage"
      ]
    },
    {
      "cell_type": "code",
      "execution_count": null,
      "metadata": {
        "id": "29e1QC50ompF",
        "outputId": "9e02e101-e9f2-449b-9b9d-c63c031404de"
      },
      "outputs": [
        {
          "data": {
            "text/plain": [
              "True"
            ]
          },
          "execution_count": 24,
          "metadata": {},
          "output_type": "execute_result"
        }
      ],
      "source": [
        "langage.startswith('Py')"
      ]
    },
    {
      "cell_type": "code",
      "execution_count": null,
      "metadata": {
        "id": "7kgoZwGtompF",
        "outputId": "53a7c5ef-c878-4bab-8a54-82632a8d43ed"
      },
      "outputs": [
        {
          "data": {
            "text/plain": [
              "False"
            ]
          },
          "execution_count": 25,
          "metadata": {},
          "output_type": "execute_result"
        }
      ],
      "source": [
        "langage.endswith('C')"
      ]
    },
    {
      "cell_type": "code",
      "execution_count": null,
      "metadata": {
        "id": "GMgrXYBSompJ"
      },
      "outputs": [],
      "source": [
        "fruits = [\"Pomme\", \"avocat\", \"ananas\"]"
      ]
    },
    {
      "cell_type": "code",
      "execution_count": null,
      "metadata": {
        "id": "x2GQFGPkompJ",
        "outputId": "3dfaba56-2f6e-4fcb-ce2b-9f13541bf44f"
      },
      "outputs": [
        {
          "data": {
            "text/plain": [
              "False"
            ]
          },
          "execution_count": 27,
          "metadata": {},
          "output_type": "execute_result"
        }
      ],
      "source": [
        "len(fruits) > 5"
      ]
    },
    {
      "cell_type": "code",
      "execution_count": null,
      "metadata": {
        "id": "9bCjcnxcompJ",
        "outputId": "2bb0e4c1-22da-4e61-c2b0-f435c939e6cb"
      },
      "outputs": [
        {
          "data": {
            "text/plain": [
              "False"
            ]
          },
          "execution_count": 28,
          "metadata": {},
          "output_type": "execute_result"
        }
      ],
      "source": [
        "'citron' in fruits"
      ]
    },
    {
      "cell_type": "code",
      "execution_count": null,
      "metadata": {
        "id": "T4ngn53bompJ",
        "outputId": "17f3faa3-eabb-4cea-bd5d-b16218a58af2"
      },
      "outputs": [
        {
          "data": {
            "text/plain": [
              "True"
            ]
          },
          "execution_count": 29,
          "metadata": {},
          "output_type": "execute_result"
        }
      ],
      "source": [
        "fruits[0] == 'Pomme'"
      ]
    },
    {
      "cell_type": "code",
      "execution_count": null,
      "metadata": {
        "id": "arx5oyj5ompJ",
        "outputId": "646a55ef-3fc8-40fe-b6ed-19a971f34cdb"
      },
      "outputs": [
        {
          "data": {
            "text/plain": [
              "True"
            ]
          },
          "execution_count": 30,
          "metadata": {},
          "output_type": "execute_result"
        }
      ],
      "source": [
        "bool(fruits)"
      ]
    },
    {
      "cell_type": "code",
      "execution_count": null,
      "metadata": {
        "id": "MIqGhaLmompK",
        "outputId": "0276f56e-e78c-4ac9-a59d-2f738ef0bb70"
      },
      "outputs": [
        {
          "data": {
            "text/plain": [
              "False"
            ]
          },
          "execution_count": 31,
          "metadata": {},
          "output_type": "execute_result"
        }
      ],
      "source": [
        "bool([])"
      ]
    },
    {
      "cell_type": "code",
      "execution_count": null,
      "metadata": {
        "id": "z6Xj2lNOompK",
        "outputId": "5ef0b73a-512e-4d62-9c8f-2d80704f73f5"
      },
      "outputs": [
        {
          "data": {
            "text/plain": [
              "False"
            ]
          },
          "execution_count": 32,
          "metadata": {},
          "output_type": "execute_result"
        }
      ],
      "source": [
        "bool(\"\")"
      ]
    },
    {
      "cell_type": "code",
      "execution_count": null,
      "metadata": {
        "id": "RhxudZJFompK",
        "outputId": "d7a3fca1-5059-4ce7-93c8-c5adba42f4f2"
      },
      "outputs": [
        {
          "data": {
            "text/plain": [
              "True"
            ]
          },
          "execution_count": 33,
          "metadata": {},
          "output_type": "execute_result"
        }
      ],
      "source": [
        "bool(\"non vide\")"
      ]
    },
    {
      "cell_type": "code",
      "execution_count": null,
      "metadata": {
        "id": "KPNamcOBompK"
      },
      "outputs": [],
      "source": [
        "annuaire = {'kevin': '0606060606', 'radji': '06466548454', 'sos': '911'}"
      ]
    },
    {
      "cell_type": "code",
      "execution_count": null,
      "metadata": {
        "id": "MueCnnwXompK",
        "outputId": "90585137-d3df-4b6a-973d-1658fc88aeed"
      },
      "outputs": [
        {
          "data": {
            "text/plain": [
              "True"
            ]
          },
          "execution_count": 35,
          "metadata": {},
          "output_type": "execute_result"
        }
      ],
      "source": [
        "\"kevin\" in annuaire"
      ]
    },
    {
      "cell_type": "code",
      "execution_count": null,
      "metadata": {
        "id": "URjaMGpOompK",
        "outputId": "f063d646-aec4-4d72-ee94-f3a108a352b4"
      },
      "outputs": [
        {
          "data": {
            "text/plain": [
              "True"
            ]
          },
          "execution_count": 36,
          "metadata": {},
          "output_type": "execute_result"
        }
      ],
      "source": [
        "'911' in annuaire.values()"
      ]
    },
    {
      "cell_type": "code",
      "execution_count": null,
      "metadata": {
        "id": "bzyxivQbompK",
        "outputId": "b98d19e4-3d9f-449c-9a61-7b4778d82791"
      },
      "outputs": [
        {
          "data": {
            "text/plain": [
              "True"
            ]
          },
          "execution_count": 37,
          "metadata": {},
          "output_type": "execute_result"
        }
      ],
      "source": [
        "len(annuaire) >= 2"
      ]
    },
    {
      "cell_type": "markdown",
      "metadata": {
        "id": "Hjiy754WompK"
      },
      "source": [
        "Et si on posait plusieurs questions en même temps à notre ordinateur du genre:\n",
        "* Est-ce la note d'un étudiant est entre 10 et 12, donc inférieur à 12 et supérieur à 10 ?\n",
        "* Est-ce qu'il y a 10 élements dans la liste et est-ce que \"bob\" est dans la liste ?\n",
        "* Est-ce que \"kevin\" ou \"kevindegila\" est dans l'annuaire ?"
      ]
    },
    {
      "cell_type": "code",
      "execution_count": null,
      "metadata": {
        "id": "DVUNR_k4ompK"
      },
      "outputs": [],
      "source": [
        "note = 11"
      ]
    },
    {
      "cell_type": "code",
      "execution_count": null,
      "metadata": {
        "id": "mAQ4QGrTompK",
        "outputId": "13abf0a3-5b48-4cec-abb8-e7a44d5c35c6"
      },
      "outputs": [
        {
          "data": {
            "text/plain": [
              "False"
            ]
          },
          "execution_count": 40,
          "metadata": {},
          "output_type": "execute_result"
        }
      ],
      "source": [
        "note > 12"
      ]
    },
    {
      "cell_type": "code",
      "execution_count": null,
      "metadata": {
        "id": "Od0RP64-ompK",
        "outputId": "fc942c61-8491-4522-dd25-c866d09ef866"
      },
      "outputs": [
        {
          "data": {
            "text/plain": [
              "False"
            ]
          },
          "execution_count": 41,
          "metadata": {},
          "output_type": "execute_result"
        }
      ],
      "source": [
        "note < 10"
      ]
    },
    {
      "cell_type": "code",
      "execution_count": null,
      "metadata": {
        "id": "G8NyCqOzompK",
        "outputId": "7235154a-55f3-40d3-fab7-c51e40671d04"
      },
      "outputs": [
        {
          "data": {
            "text/plain": [
              "False"
            ]
          },
          "execution_count": 42,
          "metadata": {},
          "output_type": "execute_result"
        }
      ],
      "source": [
        "note > 12 and note < 10"
      ]
    },
    {
      "cell_type": "code",
      "execution_count": null,
      "metadata": {
        "id": "3eyeArkaompL",
        "outputId": "30f10d48-b06a-4a36-c274-26ab06f88f2e"
      },
      "outputs": [
        {
          "data": {
            "text/plain": [
              "True"
            ]
          },
          "execution_count": 43,
          "metadata": {},
          "output_type": "execute_result"
        }
      ],
      "source": [
        "True and True"
      ]
    },
    {
      "cell_type": "code",
      "execution_count": null,
      "metadata": {
        "id": "hKQWFJh4ompL",
        "outputId": "5f53fd0a-8072-409c-a18c-788ebd6a73df"
      },
      "outputs": [
        {
          "data": {
            "text/plain": [
              "False"
            ]
          },
          "execution_count": 44,
          "metadata": {},
          "output_type": "execute_result"
        }
      ],
      "source": [
        "True and False"
      ]
    },
    {
      "cell_type": "code",
      "execution_count": null,
      "metadata": {
        "id": "r-Hx3cVTompL",
        "outputId": "f167f126-120d-47bf-c2da-1ddb48a5e9d6"
      },
      "outputs": [
        {
          "data": {
            "text/plain": [
              "False"
            ]
          },
          "execution_count": 45,
          "metadata": {},
          "output_type": "execute_result"
        }
      ],
      "source": [
        "False and True"
      ]
    },
    {
      "cell_type": "code",
      "execution_count": null,
      "metadata": {
        "id": "NqFCJ-CFompL",
        "outputId": "4957dd27-4051-417d-bcd1-1923711089eb"
      },
      "outputs": [
        {
          "data": {
            "text/plain": [
              "False"
            ]
          },
          "execution_count": 46,
          "metadata": {},
          "output_type": "execute_result"
        }
      ],
      "source": [
        "False and False"
      ]
    },
    {
      "cell_type": "code",
      "execution_count": null,
      "metadata": {
        "id": "-EUx2r4eompL",
        "outputId": "025db822-5037-415d-c777-6efa87be6190"
      },
      "outputs": [
        {
          "data": {
            "text/plain": [
              "True"
            ]
          },
          "execution_count": 47,
          "metadata": {},
          "output_type": "execute_result"
        }
      ],
      "source": [
        "True or True"
      ]
    },
    {
      "cell_type": "code",
      "execution_count": null,
      "metadata": {
        "id": "JmrVTcmuompL",
        "outputId": "42c030dc-98d5-42fa-e11c-be7f0841c253"
      },
      "outputs": [
        {
          "data": {
            "text/plain": [
              "True"
            ]
          },
          "execution_count": 48,
          "metadata": {},
          "output_type": "execute_result"
        }
      ],
      "source": [
        "True or False"
      ]
    },
    {
      "cell_type": "code",
      "execution_count": null,
      "metadata": {
        "id": "wZZjV1loompL",
        "outputId": "3015f829-5995-4497-9d64-3b4a63f51dc1"
      },
      "outputs": [
        {
          "data": {
            "text/plain": [
              "True"
            ]
          },
          "execution_count": 49,
          "metadata": {},
          "output_type": "execute_result"
        }
      ],
      "source": [
        "False or True"
      ]
    },
    {
      "cell_type": "code",
      "execution_count": null,
      "metadata": {
        "id": "xiXe0iPyompL",
        "outputId": "856d3efc-8717-4f04-8c42-0fb8d3bdee08"
      },
      "outputs": [
        {
          "data": {
            "text/plain": [
              "False"
            ]
          },
          "execution_count": 50,
          "metadata": {},
          "output_type": "execute_result"
        }
      ],
      "source": [
        "False or False"
      ]
    },
    {
      "cell_type": "code",
      "execution_count": null,
      "metadata": {
        "id": "PTRp39QNompL",
        "outputId": "a510bc0a-8171-40b5-fa5f-4672994cc792"
      },
      "outputs": [
        {
          "data": {
            "text/plain": [
              "False"
            ]
          },
          "execution_count": 51,
          "metadata": {},
          "output_type": "execute_result"
        }
      ],
      "source": [
        "note > 12 or note < 10"
      ]
    },
    {
      "cell_type": "code",
      "execution_count": null,
      "metadata": {
        "id": "z5-O1OVeompL",
        "outputId": "dd5ba4bb-4bd8-4b69-c5fe-f51b9425ef03"
      },
      "outputs": [
        {
          "data": {
            "text/plain": [
              "True"
            ]
          },
          "execution_count": 52,
          "metadata": {},
          "output_type": "execute_result"
        }
      ],
      "source": [
        "note > 10 and note < 12"
      ]
    },
    {
      "cell_type": "code",
      "execution_count": null,
      "metadata": {
        "id": "lX6wDKzqompL",
        "outputId": "c18cde17-ee67-4824-8741-ff17bbbedd61"
      },
      "outputs": [
        {
          "data": {
            "text/plain": [
              "True"
            ]
          },
          "execution_count": 53,
          "metadata": {},
          "output_type": "execute_result"
        }
      ],
      "source": [
        "10 < note < 12"
      ]
    },
    {
      "cell_type": "code",
      "execution_count": null,
      "metadata": {
        "id": "oxMsB1xkompM",
        "outputId": "5e5b3de1-6e2f-4096-8b8f-7a5e80b290b1"
      },
      "outputs": [
        {
          "data": {
            "text/plain": [
              "['Pomme', 'avocat', 'ananas']"
            ]
          },
          "execution_count": 54,
          "metadata": {},
          "output_type": "execute_result"
        }
      ],
      "source": [
        "fruits"
      ]
    },
    {
      "cell_type": "code",
      "execution_count": null,
      "metadata": {
        "id": "pPjziL8DompM",
        "outputId": "f38e0de9-ac7b-43b5-87e4-0e76aacfcbe0"
      },
      "outputs": [
        {
          "data": {
            "text/plain": [
              "True"
            ]
          },
          "execution_count": 55,
          "metadata": {},
          "output_type": "execute_result"
        }
      ],
      "source": [
        "'Pomme' in fruits or 'papaye' in fruits"
      ]
    },
    {
      "cell_type": "markdown",
      "metadata": {
        "id": "okEwhY97ompM"
      },
      "source": [
        "Voilà, on sait désormais comment poser des questions à notre ordinateur. Désormais on lui dira de faire des actions en fonction de la réponse à notre question."
      ]
    },
    {
      "cell_type": "markdown",
      "metadata": {
        "id": "y8RMa3CxompM"
      },
      "source": [
        "## Si.. Sinon si .. Sinon.."
      ]
    },
    {
      "cell_type": "markdown",
      "metadata": {
        "id": "xDOXAlftompM"
      },
      "source": [
        "Pour apprendre ce concept de si, sinon et autres, considérons l'exercice ou on rentre la note d'un utilisateur et le programme lui donnera sa mention. Commençons d'abord pas dire à notre programme  d'afficher \"Reussite\" quand la note est supérieure à 10:"
      ]
    },
    {
      "cell_type": "code",
      "execution_count": null,
      "metadata": {
        "id": "7oLX9fZnompM",
        "outputId": "8945ac89-825c-4992-d02b-19293ff21bce"
      },
      "outputs": [
        {
          "name": "stdout",
          "output_type": "stream",
          "text": [
            "Quelle est votre note : 15\n"
          ]
        }
      ],
      "source": [
        "note = int(input('Quelle est votre note : '))"
      ]
    },
    {
      "cell_type": "code",
      "execution_count": null,
      "metadata": {
        "id": "Fm6i4eshompM",
        "outputId": "afe54665-ddeb-4e6e-82c2-73eed8032673"
      },
      "outputs": [
        {
          "data": {
            "text/plain": [
              "15"
            ]
          },
          "execution_count": 57,
          "metadata": {},
          "output_type": "execute_result"
        }
      ],
      "source": [
        "note"
      ]
    },
    {
      "cell_type": "code",
      "execution_count": null,
      "metadata": {
        "id": "K3Ud51HdompM",
        "outputId": "215d79b3-5c13-455e-c809-dc439ee36c5b"
      },
      "outputs": [
        {
          "data": {
            "text/plain": [
              "True"
            ]
          },
          "execution_count": 58,
          "metadata": {},
          "output_type": "execute_result"
        }
      ],
      "source": [
        "note > 10"
      ]
    },
    {
      "cell_type": "code",
      "execution_count": null,
      "metadata": {
        "id": "r4SKvdSMompM",
        "outputId": "ab608663-3676-4977-b623-8b11d542bfe6"
      },
      "outputs": [
        {
          "name": "stdout",
          "output_type": "stream",
          "text": [
            "Reussite\n"
          ]
        }
      ],
      "source": [
        "if note > 10:\n",
        "    print(\"Reussite\")"
      ]
    },
    {
      "cell_type": "markdown",
      "metadata": {
        "id": "bQI_qSE5ompM"
      },
      "source": [
        "Intéressant le format c'est donc\n",
        "```python\n",
        "if condition:\n",
        "    action\n",
        "\n",
        "```"
      ]
    },
    {
      "cell_type": "markdown",
      "metadata": {
        "id": "aCOUZQw1ompN"
      },
      "source": [
        "L'action est donc réalisé uniquement si la condition est vraie. Verifions si on n'a l'affichage avec une condition qui est fausse."
      ]
    },
    {
      "cell_type": "code",
      "execution_count": null,
      "metadata": {
        "id": "i4e44W5PompN"
      },
      "outputs": [],
      "source": [
        "if note < 10:\n",
        "    print(\"Reussite\")"
      ]
    },
    {
      "cell_type": "markdown",
      "metadata": {
        "id": "W8xkaYFQompN"
      },
      "source": [
        "Aucun affichage. Et si on veut faire une action lorsque la condition est fausse."
      ]
    },
    {
      "cell_type": "code",
      "execution_count": null,
      "metadata": {
        "id": "SwHngib4ompN",
        "outputId": "45b337b2-2e3f-4e0f-e21f-8859a0615831"
      },
      "outputs": [
        {
          "name": "stdout",
          "output_type": "stream",
          "text": [
            "Echec\n"
          ]
        }
      ],
      "source": [
        "if note < 10:\n",
        "    print(\"Reussite\")\n",
        "else:\n",
        "    print(\"Echec\")"
      ]
    },
    {
      "cell_type": "markdown",
      "metadata": {
        "id": "kY07l19VompN"
      },
      "source": [
        "Voilà, la condition est fausse, notre programme a donc afficher Echec. Le format est donc:\n",
        "```python\n",
        "if condition:\n",
        "    action\n",
        "else:\n",
        "    autre action\n",
        "\n",
        "```"
      ]
    },
    {
      "cell_type": "markdown",
      "metadata": {
        "id": "SKJ8UEkpompN"
      },
      "source": [
        "Et si on revenait à notre objectif de base, afficher les mentions des étudiants en fonction de la note. On aura donc plusieurs conditions. Comment faire ? Voyons un exemple:"
      ]
    },
    {
      "cell_type": "code",
      "execution_count": null,
      "metadata": {
        "id": "xABVPwe1ompN",
        "outputId": "d917be8a-f6e3-4678-c9b8-625de21bc92a"
      },
      "outputs": [
        {
          "name": "stdout",
          "output_type": "stream",
          "text": [
            "Mention Bien\n"
          ]
        }
      ],
      "source": [
        "if 0 < note < 10:\n",
        "    print(\"Mention Insuffisante\")\n",
        "elif 10 <= note < 12:\n",
        "    print(\"Mention Passable\")\n",
        "elif 12 <= note < 15:\n",
        "    print('Mention Assez bien')\n",
        "elif 15 <= note < 17:\n",
        "    print(\"Mention Bien\")\n",
        "else:\n",
        "    print('Excellent.')"
      ]
    },
    {
      "cell_type": "markdown",
      "metadata": {
        "id": "LiROFo02ompN"
      },
      "source": [
        "Voilà. Vous pouvez changer la valeur de `note` et verifier si ce code fonctionne. Le format est donc:\n",
        "```python\n",
        "if condition:\n",
        "    action\n",
        "elif autre condition:\n",
        "    autre action\n",
        "else:\n",
        "    une autre action\n",
        "\n",
        "```"
      ]
    },
    {
      "cell_type": "markdown",
      "metadata": {
        "id": "GkAD-iEjompO"
      },
      "source": [
        "> Question :  Qu'est ce qui se passe lorsque les conditions du if et du elif sont les mêmes ?"
      ]
    },
    {
      "cell_type": "markdown",
      "metadata": {
        "id": "x1XPbLbZompO"
      },
      "source": [
        "Voilà, on a appris à laisser notre programme prendre des décisions. Il est temps de faire notre exercice de verifier si le second mot de passe est égale au premier dans un processus d'inscription."
      ]
    },
    {
      "cell_type": "code",
      "execution_count": null,
      "metadata": {
        "id": "SOCOVbU4ompO",
        "outputId": "ff3ec836-ffdb-46f2-af37-5e8a286003d2"
      },
      "outputs": [
        {
          "name": "stdout",
          "output_type": "stream",
          "text": [
            "Quel est ton nom d'utilisateur: kevin\n",
            "Quel est ton mot de passe: 123\n",
            "Entrez le mot de passe une seconde fois : abc\n",
            "Votre second mot de passe n'est pas égale au premier'. Réessayer\n"
          ]
        }
      ],
      "source": [
        "username = input(\"Quel est ton nom d'utilisateur: \")\n",
        "password = input(\"Quel est ton mot de passe: \")\n",
        "second_password = input(\"Entrez le mot de passe une seconde fois : \")\n",
        "\n",
        "if password == second_password:\n",
        "    print(\"Vous êtes inscrits !!!\")\n",
        "else:\n",
        "    print(\"Votre second mot de passe n'est pas égale au premier'. Réessayer\")\n"
      ]
    },
    {
      "cell_type": "markdown",
      "metadata": {
        "id": "bDcG3NsMompO"
      },
      "source": [
        "Et voilà, Dans ce notebook, on a appris  à demander des informations à l'utilisateur, et laisser le programme prendre des décisions selon des conditions.\n",
        "\n",
        "Voici comme d'habitude des exercices pour revoir les compétences que vous venez d'acquérir : https://www.w3schools.com/python/exercise.asp?filename=exercise_ifelse1"
      ]
    },
    {
      "cell_type": "code",
      "execution_count": null,
      "metadata": {
        "id": "WXOlFhhsompO"
      },
      "outputs": [],
      "source": []
    }
  ],
  "metadata": {
    "kernelspec": {
      "display_name": "Python 3",
      "language": "python",
      "name": "python3"
    },
    "language_info": {
      "codemirror_mode": {
        "name": "ipython",
        "version": 3
      },
      "file_extension": ".py",
      "mimetype": "text/x-python",
      "name": "python",
      "nbconvert_exporter": "python",
      "pygments_lexer": "ipython3",
      "version": "3.7.6"
    },
    "toc": {
      "base_numbering": 1,
      "nav_menu": {},
      "number_sections": true,
      "sideBar": true,
      "skip_h1_title": false,
      "title_cell": "Table of Contents",
      "title_sidebar": "Contents",
      "toc_cell": false,
      "toc_position": {},
      "toc_section_display": true,
      "toc_window_display": false
    },
    "varInspector": {
      "cols": {
        "lenName": 16,
        "lenType": 16,
        "lenVar": 40
      },
      "kernels_config": {
        "python": {
          "delete_cmd_postfix": "",
          "delete_cmd_prefix": "del ",
          "library": "var_list.py",
          "varRefreshCmd": "print(var_dic_list())"
        },
        "r": {
          "delete_cmd_postfix": ") ",
          "delete_cmd_prefix": "rm(",
          "library": "var_list.r",
          "varRefreshCmd": "cat(var_dic_list()) "
        }
      },
      "types_to_exclude": [
        "module",
        "function",
        "builtin_function_or_method",
        "instance",
        "_Feature"
      ],
      "window_display": false
    },
    "colab": {
      "provenance": []
    }
  },
  "nbformat": 4,
  "nbformat_minor": 0
}