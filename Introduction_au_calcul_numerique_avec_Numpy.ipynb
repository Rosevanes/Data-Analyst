{
  "cells": [
    {
      "cell_type": "markdown",
      "metadata": {
        "id": "KDvIJ6YkeE-H"
      },
      "source": [
        "Numpy ou `Numerical Python` est la libraire Python pour le calcul scientifique. Numpy est la base de plusieurs libraires comme Pandas scipy, sklearn et a inspiré les libraires comme PyTorch et Tensorlow. Vous pouvez aller sur https://numpy.org/ pour avoir une idée de tous les sous domaines scientifiques dans lesquels il est utilisé. il a été écrit en C. On peut l'importer de cette manière :"
      ]
    },
    {
      "cell_type": "code",
      "execution_count": 1,
      "metadata": {
        "id": "xyKKNyfueE-I"
      },
      "outputs": [],
      "source": [
        "import numpy as np"
      ]
    },
    {
      "cell_type": "markdown",
      "metadata": {
        "id": "GbXfuCkoeE-I"
      },
      "source": [
        "# Tableaux Numpy : Les bases"
      ]
    },
    {
      "cell_type": "markdown",
      "metadata": {
        "id": "VoWL4p2geE-J"
      },
      "source": [
        "Python ne supporte pas des types de données multi-dimensionnelles. Un tableau Numpy peut être non seulement multidimensionnel mais permet aussi des opérations vectorielles ou matricielles."
      ]
    },
    {
      "cell_type": "markdown",
      "metadata": {
        "id": "nOJUmmCzeE-J"
      },
      "source": [
        "## Création d'un Tableau Numpy"
      ]
    },
    {
      "cell_type": "code",
      "execution_count": null,
      "metadata": {
        "id": "OBuvODO0eE-J"
      },
      "outputs": [],
      "source": [
        "data = np.array([\n",
        "    [1, 5, 9],\n",
        "    [8, 9, 7]\n",
        "])"
      ]
    },
    {
      "cell_type": "markdown",
      "metadata": {
        "id": "PjYcQGqAeE-J"
      },
      "source": [
        "Pour créer un tableau numpy, nous utilisons la fonction `array` et lui donnons une liste d'éléments. Notre variable data contient un tableau de dimension 2"
      ]
    },
    {
      "cell_type": "code",
      "execution_count": null,
      "metadata": {
        "id": "2xLHo4QfeE-K",
        "outputId": "f3ccd6b7-9788-4483-84b3-17e0dde9f415"
      },
      "outputs": [
        {
          "data": {
            "text/plain": [
              "2"
            ]
          },
          "execution_count": 3,
          "metadata": {},
          "output_type": "execute_result"
        }
      ],
      "source": [
        "data.ndim"
      ]
    },
    {
      "cell_type": "markdown",
      "metadata": {
        "id": "WkQhmFU8eE-K"
      },
      "source": [
        "data contient, un tableau avec 2 lignes et 3 colonnes. Chaque ligne est une liste et le nombre d'éléments dans une liste est le nombre de colonnes:"
      ]
    },
    {
      "cell_type": "code",
      "execution_count": null,
      "metadata": {
        "id": "xhpSPRDxeE-K",
        "outputId": "67886821-819e-4cc9-ce36-26162908dfe5"
      },
      "outputs": [
        {
          "data": {
            "text/plain": [
              "(2, 3)"
            ]
          },
          "execution_count": 4,
          "metadata": {},
          "output_type": "execute_result"
        }
      ],
      "source": [
        "data.shape"
      ]
    },
    {
      "cell_type": "markdown",
      "metadata": {
        "id": "DTZqJUT2eE-L"
      },
      "source": [
        "data contient 6 éléments:"
      ]
    },
    {
      "cell_type": "code",
      "execution_count": null,
      "metadata": {
        "id": "MIHE9m4keE-L",
        "outputId": "aac7fbbb-2c2f-4585-f407-0f523a15daa6"
      },
      "outputs": [
        {
          "data": {
            "text/plain": [
              "6"
            ]
          },
          "execution_count": 6,
          "metadata": {},
          "output_type": "execute_result"
        }
      ],
      "source": [
        "data.size"
      ]
    },
    {
      "cell_type": "markdown",
      "metadata": {
        "id": "auV8gPVCeE-L"
      },
      "source": [
        "## Comprendre les attributs des tableaux Numpy"
      ]
    },
    {
      "cell_type": "markdown",
      "metadata": {
        "id": "W0XoJKI-eE-L"
      },
      "source": [
        "Créeons le plus simple tableau numpy possible."
      ]
    },
    {
      "cell_type": "code",
      "execution_count": null,
      "metadata": {
        "id": "Z9o3RDpdeE-L"
      },
      "outputs": [],
      "source": [
        "data_un = np.array([1])"
      ]
    },
    {
      "cell_type": "code",
      "execution_count": null,
      "metadata": {
        "id": "Pc20_AzpeE-L",
        "outputId": "5e2879b2-8140-4fee-c027-6e3476aef183"
      },
      "outputs": [
        {
          "data": {
            "text/plain": [
              "1"
            ]
          },
          "execution_count": 18,
          "metadata": {},
          "output_type": "execute_result"
        }
      ],
      "source": [
        "data_un.ndim"
      ]
    },
    {
      "cell_type": "code",
      "execution_count": null,
      "metadata": {
        "id": "cSW-pFs7eE-L",
        "outputId": "8d61406e-c0bf-48c4-9be6-c6ce7c4156fc"
      },
      "outputs": [
        {
          "data": {
            "text/plain": [
              "(1,)"
            ]
          },
          "execution_count": 19,
          "metadata": {},
          "output_type": "execute_result"
        }
      ],
      "source": [
        "data_un.shape"
      ]
    },
    {
      "cell_type": "code",
      "execution_count": null,
      "metadata": {
        "id": "3XIfS5F9eE-L",
        "outputId": "7ef00c13-33a2-427f-9d16-b1e99567ab02"
      },
      "outputs": [
        {
          "data": {
            "text/plain": [
              "1"
            ]
          },
          "execution_count": 20,
          "metadata": {},
          "output_type": "execute_result"
        }
      ],
      "source": [
        "data_un.size"
      ]
    },
    {
      "cell_type": "markdown",
      "metadata": {
        "id": "J4a5c1zjeE-L"
      },
      "source": [
        "data_un contient un nombre, qu'on peut appeler un scalaire. Il a donc un size de 1, puisqu'il s'agit d'un seul élément. Il est de dimension 1 et a un seul élément sur cette dimension"
      ]
    },
    {
      "cell_type": "markdown",
      "metadata": {
        "id": "R7_tnna_eE-L"
      },
      "source": [
        "Créons un autre tableau"
      ]
    },
    {
      "cell_type": "code",
      "execution_count": null,
      "metadata": {
        "id": "aKMj6AVTeE-L"
      },
      "outputs": [],
      "source": [
        "data_un = np.array([1, 5, 6])"
      ]
    },
    {
      "cell_type": "markdown",
      "metadata": {
        "id": "tdtLY0YCeE-M"
      },
      "source": [
        "Prenez le temps de deviner le ndim, shape et size de ce tableau."
      ]
    },
    {
      "cell_type": "markdown",
      "metadata": {
        "id": "QsH1F2fieE-M"
      },
      "source": [
        "Combien d'éléments dans ce tableau ? 3"
      ]
    },
    {
      "cell_type": "code",
      "execution_count": null,
      "metadata": {
        "id": "rZGVCEXXeE-M",
        "outputId": "6125fe43-c5d6-46a9-a5a0-0bdd10bce61f"
      },
      "outputs": [
        {
          "data": {
            "text/plain": [
              "3"
            ]
          },
          "execution_count": 22,
          "metadata": {},
          "output_type": "execute_result"
        }
      ],
      "source": [
        "data_un.size"
      ]
    },
    {
      "cell_type": "markdown",
      "metadata": {
        "id": "o6wQnE4DeE-M"
      },
      "source": [
        "Ce tableau a combien de dimensions ?"
      ]
    },
    {
      "cell_type": "code",
      "execution_count": null,
      "metadata": {
        "id": "l-PjKgW8eE-M",
        "outputId": "2ae88bbe-d301-4900-95b1-eff8355971db"
      },
      "outputs": [
        {
          "data": {
            "text/plain": [
              "1"
            ]
          },
          "execution_count": 23,
          "metadata": {},
          "output_type": "execute_result"
        }
      ],
      "source": [
        "data_un.ndim"
      ]
    },
    {
      "cell_type": "markdown",
      "metadata": {
        "id": "A52FgLGSeE-M"
      },
      "source": [
        "Combien d'éléments sur cette seule dimension ?"
      ]
    },
    {
      "cell_type": "code",
      "execution_count": null,
      "metadata": {
        "id": "s3FYY0UieE-M",
        "outputId": "8a7deee9-0651-474b-adfc-a4eb4f2cee3a"
      },
      "outputs": [
        {
          "data": {
            "text/plain": [
              "(3,)"
            ]
          },
          "execution_count": 24,
          "metadata": {},
          "output_type": "execute_result"
        }
      ],
      "source": [
        "data_un.shape"
      ]
    },
    {
      "cell_type": "markdown",
      "metadata": {
        "id": "azPHZqaBeE-M"
      },
      "source": [
        "Mettons la liste de data_un dans une autre liste :"
      ]
    },
    {
      "cell_type": "code",
      "execution_count": null,
      "metadata": {
        "id": "AuFA_kIveE-M"
      },
      "outputs": [],
      "source": [
        "data_un = np.array([   [1, 5, 6]    ])"
      ]
    },
    {
      "cell_type": "code",
      "execution_count": null,
      "metadata": {
        "id": "faEuWrxneE-M",
        "outputId": "684e8d30-6768-430f-c7f1-6aaa37e5ff54"
      },
      "outputs": [
        {
          "data": {
            "text/plain": [
              "2"
            ]
          },
          "execution_count": 26,
          "metadata": {},
          "output_type": "execute_result"
        }
      ],
      "source": [
        "data_un.ndim"
      ]
    },
    {
      "cell_type": "code",
      "execution_count": null,
      "metadata": {
        "id": "SNApjEYleE-M",
        "outputId": "166af943-6892-4412-8c17-3894a68d5388"
      },
      "outputs": [
        {
          "data": {
            "text/plain": [
              "3"
            ]
          },
          "execution_count": 27,
          "metadata": {},
          "output_type": "execute_result"
        }
      ],
      "source": [
        "data_un.size"
      ]
    },
    {
      "cell_type": "code",
      "execution_count": null,
      "metadata": {
        "id": "eIkZX1vreE-M",
        "outputId": "edbde04e-54aa-4e10-df46-19fe4f131371"
      },
      "outputs": [
        {
          "data": {
            "text/plain": [
              "(1, 3)"
            ]
          },
          "execution_count": 29,
          "metadata": {},
          "output_type": "execute_result"
        }
      ],
      "source": [
        "data_un.shape # une ligne, 3 colonnes"
      ]
    },
    {
      "cell_type": "markdown",
      "metadata": {
        "id": "bBxElaU4eE-M"
      },
      "source": [
        "La taille du tuple `shape` est égale au nombre de dimensions. Le `size` est simplement égale au produit du nombre d'élément sur chaque dimension"
      ]
    },
    {
      "cell_type": "markdown",
      "metadata": {
        "id": "FzeADdgAeE-M"
      },
      "source": [
        "Créons un tableau avec 2 listes à l'intérieur:  "
      ]
    },
    {
      "cell_type": "code",
      "execution_count": null,
      "metadata": {
        "id": "n8tfVmJgeE-M"
      },
      "outputs": [],
      "source": [
        "data_deux = np.array([   [1, 5, 6],\n",
        "                         [9, 4, 7]    ])"
      ]
    },
    {
      "cell_type": "markdown",
      "metadata": {
        "id": "cmhrt05ReE-N"
      },
      "source": [
        "On a là un tableau de 2 dimensions, 2 lignes, 3 colonnes donc 6 élements:"
      ]
    },
    {
      "cell_type": "code",
      "execution_count": null,
      "metadata": {
        "id": "5AuW5F0YeE-N",
        "outputId": "70d7014e-e86b-4d3d-a524-0e39f8d5b7b2"
      },
      "outputs": [
        {
          "data": {
            "text/plain": [
              "2"
            ]
          },
          "execution_count": 31,
          "metadata": {},
          "output_type": "execute_result"
        }
      ],
      "source": [
        "data_deux.ndim"
      ]
    },
    {
      "cell_type": "code",
      "execution_count": null,
      "metadata": {
        "id": "sKTgSg8MeE-N",
        "outputId": "1f0a143a-0645-4497-eae1-04c86e355b45"
      },
      "outputs": [
        {
          "data": {
            "text/plain": [
              "(2, 3)"
            ]
          },
          "execution_count": 32,
          "metadata": {},
          "output_type": "execute_result"
        }
      ],
      "source": [
        "data_deux.shape"
      ]
    },
    {
      "cell_type": "code",
      "execution_count": null,
      "metadata": {
        "id": "oEGBH2G_eE-Q",
        "outputId": "634b4b98-5d40-46ce-e106-106674c5502a"
      },
      "outputs": [
        {
          "data": {
            "text/plain": [
              "6"
            ]
          },
          "execution_count": 33,
          "metadata": {},
          "output_type": "execute_result"
        }
      ],
      "source": [
        "data_deux.size"
      ]
    },
    {
      "cell_type": "markdown",
      "metadata": {
        "id": "pWlyKQWheE-Q"
      },
      "source": [
        "Quel est le shape, ndim et size du tableau suivant :"
      ]
    },
    {
      "cell_type": "code",
      "execution_count": null,
      "metadata": {
        "id": "YWKS5_GmeE-Q"
      },
      "outputs": [],
      "source": [
        "data = np.array([   [1, 5, 6, 2],\n",
        "                    [9, 4, 7, 8],\n",
        "                    [0, 1, 0, 6]     ])"
      ]
    },
    {
      "cell_type": "code",
      "execution_count": null,
      "metadata": {
        "id": "xLvDIcq3eE-Q"
      },
      "outputs": [],
      "source": [
        "data.size"
      ]
    },
    {
      "cell_type": "code",
      "execution_count": null,
      "metadata": {
        "id": "GuhoTmvceE-Q"
      },
      "outputs": [],
      "source": [
        "data.shape"
      ]
    },
    {
      "cell_type": "code",
      "execution_count": null,
      "metadata": {
        "id": "tsZKK2ILeE-R"
      },
      "outputs": [],
      "source": [
        "data.ndim"
      ]
    },
    {
      "cell_type": "markdown",
      "metadata": {
        "id": "k6GQrgJ0eE-R"
      },
      "source": [
        "A quoi ressemblerait un tableau de dimension 3 ?"
      ]
    },
    {
      "cell_type": "code",
      "execution_count": null,
      "metadata": {
        "id": "XPHIQJTreE-R"
      },
      "outputs": [],
      "source": [
        "data_trois  = np.array([\n",
        "      [[1, 5, 9],\n",
        "       [8, 9, 7]],\n",
        "\n",
        "      [[2, 5, 9],\n",
        "       [8, 9, 7]],\n",
        "\n",
        "      [[13, 5, 9],\n",
        "       [8, 9, 7]]\n",
        "])"
      ]
    },
    {
      "cell_type": "code",
      "execution_count": null,
      "metadata": {
        "id": "yPtg0tlweE-R",
        "outputId": "a96c977b-675f-4764-9737-61cfc27c30c9"
      },
      "outputs": [
        {
          "data": {
            "text/plain": [
              "(3, 2, 3)"
            ]
          },
          "execution_count": 37,
          "metadata": {},
          "output_type": "execute_result"
        }
      ],
      "source": [
        "data_trois.shape # 3 petits tableau de shape (2, 3)"
      ]
    },
    {
      "cell_type": "code",
      "execution_count": null,
      "metadata": {
        "id": "riGxtZDBeE-R",
        "outputId": "6bc66207-5a45-4d61-cd63-6234dca50e2b"
      },
      "outputs": [
        {
          "data": {
            "text/plain": [
              "3"
            ]
          },
          "execution_count": 38,
          "metadata": {},
          "output_type": "execute_result"
        }
      ],
      "source": [
        "data_trois.ndim"
      ]
    },
    {
      "cell_type": "code",
      "execution_count": null,
      "metadata": {
        "id": "57Qi-bMMeE-R",
        "outputId": "53c4fd2e-14ed-45fb-bc58-b0aa4368a564"
      },
      "outputs": [
        {
          "data": {
            "text/plain": [
              "18"
            ]
          },
          "execution_count": 39,
          "metadata": {},
          "output_type": "execute_result"
        }
      ],
      "source": [
        "data_trois.size"
      ]
    },
    {
      "cell_type": "markdown",
      "metadata": {
        "id": "AOx52k13eE-R"
      },
      "source": [
        "Dans la suite de ce bootcamp, nous travaillerons beaucoup avec des tableaux de dimensions 2."
      ]
    },
    {
      "cell_type": "markdown",
      "metadata": {
        "id": "9z8UvWMseE-R"
      },
      "source": [
        "## Accéder à un élément d'un tableau"
      ]
    },
    {
      "cell_type": "code",
      "execution_count": null,
      "metadata": {
        "id": "WpCgH1ZDeE-R"
      },
      "outputs": [],
      "source": [
        "v = np.array([1,5,9])"
      ]
    },
    {
      "cell_type": "code",
      "execution_count": null,
      "metadata": {
        "id": "jeXzrTXoeE-R",
        "outputId": "ffab4587-6bfe-4d01-cef3-cd2ebc6929ac"
      },
      "outputs": [
        {
          "data": {
            "text/plain": [
              "(3,)"
            ]
          },
          "execution_count": 42,
          "metadata": {},
          "output_type": "execute_result"
        }
      ],
      "source": [
        "v.shape"
      ]
    },
    {
      "cell_type": "code",
      "execution_count": null,
      "metadata": {
        "id": "bqazPfhxeE-R",
        "outputId": "1bf7d81f-5006-423f-de90-e38888fd6780"
      },
      "outputs": [
        {
          "data": {
            "text/plain": [
              "1"
            ]
          },
          "execution_count": 41,
          "metadata": {},
          "output_type": "execute_result"
        }
      ],
      "source": [
        "v[0]"
      ]
    },
    {
      "cell_type": "code",
      "execution_count": null,
      "metadata": {
        "id": "_FW2RAlKeE-R",
        "outputId": "29ef7e9a-7a52-4d10-f9a1-7be51b3b3e08"
      },
      "outputs": [
        {
          "data": {
            "text/plain": [
              "9"
            ]
          },
          "execution_count": 43,
          "metadata": {},
          "output_type": "execute_result"
        }
      ],
      "source": [
        "v[-1]"
      ]
    },
    {
      "cell_type": "code",
      "execution_count": null,
      "metadata": {
        "id": "4TotgjcbeE-R",
        "outputId": "2e615a32-db8b-42ed-99f1-cce931357e13"
      },
      "outputs": [
        {
          "data": {
            "text/plain": [
              "array([5, 9])"
            ]
          },
          "execution_count": 44,
          "metadata": {},
          "output_type": "execute_result"
        }
      ],
      "source": [
        "v[1:]"
      ]
    },
    {
      "cell_type": "code",
      "execution_count": null,
      "metadata": {
        "id": "L6Vm5DbYeE-R"
      },
      "outputs": [],
      "source": [
        "matrice = np.array([\n",
        "    [1, 5, 9],\n",
        "    [8, 6, 7]\n",
        "])"
      ]
    },
    {
      "cell_type": "code",
      "execution_count": null,
      "metadata": {
        "id": "5y3q4fOPeE-S",
        "outputId": "ca70eb90-2bc7-4bee-b699-d10b67f07a41"
      },
      "outputs": [
        {
          "data": {
            "text/plain": [
              "6"
            ]
          },
          "execution_count": 50,
          "metadata": {},
          "output_type": "execute_result"
        }
      ],
      "source": [
        "matrice[1, 1]"
      ]
    },
    {
      "cell_type": "code",
      "execution_count": null,
      "metadata": {
        "id": "XpaaQdnVeE-S",
        "outputId": "41ce886f-2a0c-4376-e3b5-32f6887c8318"
      },
      "outputs": [
        {
          "data": {
            "text/plain": [
              "9"
            ]
          },
          "execution_count": 51,
          "metadata": {},
          "output_type": "execute_result"
        }
      ],
      "source": [
        "matrice[0,2]"
      ]
    },
    {
      "cell_type": "code",
      "execution_count": null,
      "metadata": {
        "id": "jdEQcw3_eE-S",
        "outputId": "a3af1040-66ae-43bb-a7a0-d1e44a845cff"
      },
      "outputs": [
        {
          "data": {
            "text/plain": [
              "8"
            ]
          },
          "execution_count": 52,
          "metadata": {},
          "output_type": "execute_result"
        }
      ],
      "source": [
        "matrice[1, 0]"
      ]
    },
    {
      "cell_type": "code",
      "execution_count": null,
      "metadata": {
        "id": "NY-mcFNCeE-S"
      },
      "outputs": [],
      "source": [
        "v2 = np.array([\n",
        "    [1, 5, 9]\n",
        "])"
      ]
    },
    {
      "cell_type": "code",
      "execution_count": null,
      "metadata": {
        "id": "PPzfAE5reE-S",
        "outputId": "eff2be16-7db5-4ef1-95c0-2413bdecf2e7"
      },
      "outputs": [
        {
          "data": {
            "text/plain": [
              "5"
            ]
          },
          "execution_count": 54,
          "metadata": {},
          "output_type": "execute_result"
        }
      ],
      "source": [
        "v2[0, 1]"
      ]
    },
    {
      "cell_type": "markdown",
      "metadata": {
        "id": "PrdocRrueE-S"
      },
      "source": [
        "## Accéder à des sous-tableaux d'un tableau"
      ]
    },
    {
      "cell_type": "code",
      "execution_count": null,
      "metadata": {
        "id": "AwVtmu6-eE-S",
        "outputId": "c2c25792-d378-4b3c-abca-af4e9d567d09"
      },
      "outputs": [
        {
          "data": {
            "text/plain": [
              "array([[1, 5, 9],\n",
              "       [8, 6, 7]])"
            ]
          },
          "execution_count": 55,
          "metadata": {},
          "output_type": "execute_result"
        }
      ],
      "source": [
        "matrice"
      ]
    },
    {
      "cell_type": "code",
      "execution_count": null,
      "metadata": {
        "id": "R38kjXoVeE-S",
        "outputId": "8ab3f6f7-9cee-4e61-b27f-f811ac7b4273"
      },
      "outputs": [
        {
          "data": {
            "text/plain": [
              "array([5, 9])"
            ]
          },
          "execution_count": 56,
          "metadata": {},
          "output_type": "execute_result"
        }
      ],
      "source": [
        "matrice[0, 1: ]"
      ]
    },
    {
      "cell_type": "code",
      "execution_count": null,
      "metadata": {
        "id": "i-fcro0aeE-S",
        "outputId": "ee84e402-82a3-46fc-8cf9-03611e518e9a"
      },
      "outputs": [
        {
          "data": {
            "text/plain": [
              "array([6, 7])"
            ]
          },
          "execution_count": 57,
          "metadata": {},
          "output_type": "execute_result"
        }
      ],
      "source": [
        "matrice[1, 1: ]"
      ]
    },
    {
      "cell_type": "code",
      "execution_count": null,
      "metadata": {
        "id": "l9fldVvKeE-S",
        "outputId": "39364e5b-5755-4414-cd97-8555080250ec"
      },
      "outputs": [
        {
          "data": {
            "text/plain": [
              "array([[5, 9],\n",
              "       [6, 7]])"
            ]
          },
          "execution_count": 58,
          "metadata": {},
          "output_type": "execute_result"
        }
      ],
      "source": [
        "matrice[0: , 1: ]"
      ]
    },
    {
      "cell_type": "code",
      "execution_count": null,
      "metadata": {
        "id": "-KxdEhrMeE-S",
        "outputId": "f9c9f2d1-c6b7-4e97-9588-d7e5bd3bfbcb"
      },
      "outputs": [
        {
          "data": {
            "text/plain": [
              "array([[5, 9],\n",
              "       [6, 7]])"
            ]
          },
          "execution_count": 59,
          "metadata": {},
          "output_type": "execute_result"
        }
      ],
      "source": [
        "matrice[: , 1: ]"
      ]
    },
    {
      "cell_type": "code",
      "execution_count": null,
      "metadata": {
        "id": "iULKfZuQeE-S"
      },
      "outputs": [],
      "source": [
        "matrice = np.array([\n",
        "   [1, 5, 9, 4, 6],\n",
        "   [8, 9, 7, 5, 0],\n",
        "   [3, 2, 0, 6, 2],\n",
        "   [8, 6, 7, 8, 9]\n",
        "])"
      ]
    },
    {
      "cell_type": "code",
      "execution_count": null,
      "metadata": {
        "id": "jJtAm0UEeE-S"
      },
      "outputs": [],
      "source": [
        "matrice = np.array([\n",
        "      0  1  2  3  4\n",
        "   0 [1, 5, 9, 4, 6],\n",
        "   1 [8, 9, 7, 5, 0],\n",
        "   2 [3, 2, 0, 6, 2],\n",
        "   3 [8, 6, 7, 8, 9]\n",
        "])"
      ]
    },
    {
      "cell_type": "code",
      "execution_count": null,
      "metadata": {
        "id": "wK4FE0LpeE-S",
        "outputId": "1bfcfd8c-b8eb-496f-a82a-cb696ba22677"
      },
      "outputs": [
        {
          "data": {
            "text/plain": [
              "(4, 5)"
            ]
          },
          "execution_count": 64,
          "metadata": {},
          "output_type": "execute_result"
        }
      ],
      "source": [
        "matrice.shape"
      ]
    },
    {
      "cell_type": "code",
      "execution_count": null,
      "metadata": {
        "id": "IblTEr2deE-T",
        "outputId": "e6c46f42-5dc9-489a-a6f9-cccb480c4b20"
      },
      "outputs": [
        {
          "data": {
            "text/plain": [
              "6"
            ]
          },
          "execution_count": 61,
          "metadata": {},
          "output_type": "execute_result"
        }
      ],
      "source": [
        "matrice[2, 3]"
      ]
    },
    {
      "cell_type": "code",
      "execution_count": null,
      "metadata": {
        "id": "_0sD3gwReE-T",
        "outputId": "61f7e3c6-dc91-48e3-ad01-1de2960c75b0"
      },
      "outputs": [
        {
          "data": {
            "text/plain": [
              "array([[7, 5, 0],\n",
              "       [0, 6, 2],\n",
              "       [7, 8, 9]])"
            ]
          },
          "execution_count": 62,
          "metadata": {},
          "output_type": "execute_result"
        }
      ],
      "source": [
        "matrice[1:, 2:]"
      ]
    },
    {
      "cell_type": "code",
      "execution_count": null,
      "metadata": {
        "id": "iDiZ4k1VeE-T",
        "outputId": "53a220b8-bd89-4c4c-f181-b9b5ac22af77"
      },
      "outputs": [
        {
          "data": {
            "text/plain": [
              "array([[7, 5],\n",
              "       [0, 6]])"
            ]
          },
          "execution_count": 63,
          "metadata": {},
          "output_type": "execute_result"
        }
      ],
      "source": [
        "matrice[1:3, 2:4]"
      ]
    },
    {
      "cell_type": "code",
      "execution_count": null,
      "metadata": {
        "id": "YOOWx8mAeE-T",
        "outputId": "240acbed-54bc-4cfb-ed4a-bf70a35a295e"
      },
      "outputs": [
        {
          "data": {
            "text/plain": [
              "array([[9, 7],\n",
              "       [2, 0]])"
            ]
          },
          "execution_count": 65,
          "metadata": {},
          "output_type": "execute_result"
        }
      ],
      "source": [
        "matrice[1:3 , 1:3]"
      ]
    },
    {
      "cell_type": "code",
      "execution_count": null,
      "metadata": {
        "id": "3NK1JkxZeE-T"
      },
      "outputs": [],
      "source": []
    },
    {
      "cell_type": "code",
      "execution_count": null,
      "metadata": {
        "id": "CMG8ckMoeE-T"
      },
      "outputs": [],
      "source": [
        "matrice = np.arange(9).reshape((3,3))"
      ]
    },
    {
      "cell_type": "code",
      "execution_count": null,
      "metadata": {
        "id": "2bPwZtgMeE-T",
        "outputId": "b60ce103-0de5-462c-9e4a-285b0a5c5a51"
      },
      "outputs": [
        {
          "data": {
            "text/plain": [
              "array([[0, 1, 2],\n",
              "       [3, 4, 5],\n",
              "       [6, 7, 8]])"
            ]
          },
          "execution_count": 67,
          "metadata": {},
          "output_type": "execute_result"
        }
      ],
      "source": [
        "matrice"
      ]
    },
    {
      "cell_type": "code",
      "execution_count": null,
      "metadata": {
        "id": "O9xC5E-TeE-T",
        "outputId": "83d38119-9403-4c5c-85fa-db4e7a606c02"
      },
      "outputs": [
        {
          "data": {
            "text/plain": [
              "array([[1, 2],\n",
              "       [4, 5]])"
            ]
          },
          "execution_count": 68,
          "metadata": {},
          "output_type": "execute_result"
        }
      ],
      "source": [
        "matrice[0:2, 1:]"
      ]
    },
    {
      "cell_type": "code",
      "execution_count": null,
      "metadata": {
        "id": "D3SG_pKieE-T",
        "outputId": "fa7bd4a6-9764-43e7-d8d0-37e4076f1d5f"
      },
      "outputs": [
        {
          "data": {
            "text/plain": [
              "array([[3, 4],\n",
              "       [6, 7]])"
            ]
          },
          "execution_count": 69,
          "metadata": {},
          "output_type": "execute_result"
        }
      ],
      "source": [
        "matrice[1: , :2]"
      ]
    },
    {
      "cell_type": "markdown",
      "metadata": {
        "id": "eFWbWxiueE-T"
      },
      "source": [
        "## Vue et non copie d'un tableau"
      ]
    },
    {
      "cell_type": "code",
      "execution_count": null,
      "metadata": {
        "id": "6Gre_bDbeE-T",
        "outputId": "67e23c0d-8fe4-4eef-db44-02449063c088"
      },
      "outputs": [
        {
          "data": {
            "text/plain": [
              "array([[0, 1, 2],\n",
              "       [3, 4, 5],\n",
              "       [6, 7, 8]])"
            ]
          },
          "execution_count": 70,
          "metadata": {},
          "output_type": "execute_result"
        }
      ],
      "source": [
        "matrice = np.arange(9).reshape((3,3))\n",
        "matrice"
      ]
    },
    {
      "cell_type": "markdown",
      "metadata": {
        "id": "_y9AkwUreE-T"
      },
      "source": [
        "Modifions le 5 en 9 :"
      ]
    },
    {
      "cell_type": "code",
      "execution_count": null,
      "metadata": {
        "id": "7i_oDhb7eE-T"
      },
      "outputs": [],
      "source": [
        "matrice[1, -1] = 9"
      ]
    },
    {
      "cell_type": "code",
      "execution_count": null,
      "metadata": {
        "id": "xdWVHh_NeE-T",
        "outputId": "a845a926-d82e-4bd9-b0e0-9daa846f7014"
      },
      "outputs": [
        {
          "data": {
            "text/plain": [
              "array([[0, 1, 2],\n",
              "       [3, 4, 9],\n",
              "       [6, 7, 8]])"
            ]
          },
          "execution_count": 73,
          "metadata": {},
          "output_type": "execute_result"
        }
      ],
      "source": [
        "matrice"
      ]
    },
    {
      "cell_type": "markdown",
      "metadata": {
        "id": "4p-wOFeheE-T"
      },
      "source": [
        "sauvegardons une partie de la matrice dans une variable data"
      ]
    },
    {
      "cell_type": "code",
      "execution_count": null,
      "metadata": {
        "id": "ELdzTF6aeE-T"
      },
      "outputs": [],
      "source": [
        "data = matrice[:2, :2]"
      ]
    },
    {
      "cell_type": "code",
      "execution_count": null,
      "metadata": {
        "id": "TQ17gKJEeE-T",
        "outputId": "8a491356-e03e-4474-8fe6-248d29661d77"
      },
      "outputs": [
        {
          "data": {
            "text/plain": [
              "array([[0, 1],\n",
              "       [3, 4]])"
            ]
          },
          "execution_count": 76,
          "metadata": {},
          "output_type": "execute_result"
        }
      ],
      "source": [
        "data"
      ]
    },
    {
      "cell_type": "markdown",
      "metadata": {
        "id": "i4XWKXHWeE-U"
      },
      "source": [
        "Modifions date en transformant le 0 en 15"
      ]
    },
    {
      "cell_type": "code",
      "execution_count": null,
      "metadata": {
        "id": "2aK-mD9yeE-U"
      },
      "outputs": [],
      "source": [
        "data[0, 0] = 15"
      ]
    },
    {
      "cell_type": "code",
      "execution_count": null,
      "metadata": {
        "id": "60QI5BpOeE-U",
        "outputId": "b9a12d11-0d22-4a15-a4a5-b309a2d140e4"
      },
      "outputs": [
        {
          "data": {
            "text/plain": [
              "array([[15,  1],\n",
              "       [ 3,  4]])"
            ]
          },
          "execution_count": 79,
          "metadata": {},
          "output_type": "execute_result"
        }
      ],
      "source": [
        "data"
      ]
    },
    {
      "cell_type": "markdown",
      "metadata": {
        "id": "YLGZ1YSMeE-U"
      },
      "source": [
        "Cette modification de data, modifie-t-elle aussi la matrice ?"
      ]
    },
    {
      "cell_type": "code",
      "execution_count": null,
      "metadata": {
        "id": "jfiwuurbeE-U",
        "outputId": "f28d5099-3222-4abc-e1ea-275f23851c0e"
      },
      "outputs": [
        {
          "data": {
            "text/plain": [
              "array([[15,  1,  2],\n",
              "       [ 3,  4,  9],\n",
              "       [ 6,  7,  8]])"
            ]
          },
          "execution_count": 80,
          "metadata": {},
          "output_type": "execute_result"
        }
      ],
      "source": [
        "matrice"
      ]
    },
    {
      "cell_type": "markdown",
      "metadata": {
        "id": "Z7F_8bbleE-U"
      },
      "source": [
        "La réponse est oui. data n'était donc pas une copie de matrice mais une vue"
      ]
    },
    {
      "cell_type": "markdown",
      "metadata": {
        "id": "6p-zjg8ZeE-U"
      },
      "source": [
        "## Comment copier alors un tableau ?"
      ]
    },
    {
      "cell_type": "code",
      "execution_count": null,
      "metadata": {
        "id": "CZ34M1oReE-U"
      },
      "outputs": [],
      "source": [
        "data = matrice[:2, :2].copy()"
      ]
    },
    {
      "cell_type": "code",
      "execution_count": null,
      "metadata": {
        "id": "CEaQOzrAeE-U",
        "outputId": "2826fc6b-d9c6-4b0b-b3f5-b04af5ee02ab"
      },
      "outputs": [
        {
          "data": {
            "text/plain": [
              "array([[15,  1],\n",
              "       [ 3,  4]])"
            ]
          },
          "execution_count": 82,
          "metadata": {},
          "output_type": "execute_result"
        }
      ],
      "source": [
        "data"
      ]
    },
    {
      "cell_type": "code",
      "execution_count": null,
      "metadata": {
        "id": "TUuPuyA9eE-U"
      },
      "outputs": [],
      "source": [
        "data[0, 0] = 30"
      ]
    },
    {
      "cell_type": "code",
      "execution_count": null,
      "metadata": {
        "id": "YgklTjUoeE-U",
        "outputId": "ddd79e0c-43a7-4838-fe43-8826bf2b301b"
      },
      "outputs": [
        {
          "data": {
            "text/plain": [
              "array([[30,  1],\n",
              "       [ 3,  4]])"
            ]
          },
          "execution_count": 84,
          "metadata": {},
          "output_type": "execute_result"
        }
      ],
      "source": [
        "data"
      ]
    },
    {
      "cell_type": "code",
      "execution_count": null,
      "metadata": {
        "id": "p2cF5mUaeE-U",
        "outputId": "7c4084f1-6207-4854-9996-df1f30ded205"
      },
      "outputs": [
        {
          "data": {
            "text/plain": [
              "array([[15,  1,  2],\n",
              "       [ 3,  4,  9],\n",
              "       [ 6,  7,  8]])"
            ]
          },
          "execution_count": 85,
          "metadata": {},
          "output_type": "execute_result"
        }
      ],
      "source": [
        "matrice"
      ]
    },
    {
      "cell_type": "markdown",
      "metadata": {
        "id": "T5VgKrQ6eE-V"
      },
      "source": [
        "Cette fois-ci la modification se fait voir uniquement dans data puisque c'est une copie."
      ]
    },
    {
      "cell_type": "markdown",
      "metadata": {
        "id": "Jz0E7XcZeE-V"
      },
      "source": [
        "## Modifier la taille d'un tableau"
      ]
    },
    {
      "cell_type": "code",
      "execution_count": null,
      "metadata": {
        "id": "u93SI6VjeE-V",
        "outputId": "ecba51df-2fb9-4234-a2b3-2a7042e25fdd"
      },
      "outputs": [
        {
          "data": {
            "text/plain": [
              "array([[84, 39, 21, 98, 60],\n",
              "       [29, 89, 13,  3, 57]])"
            ]
          },
          "execution_count": 86,
          "metadata": {},
          "output_type": "execute_result"
        }
      ],
      "source": [
        "x = np.random.randint(100, size=(2, 5))\n",
        "x"
      ]
    },
    {
      "cell_type": "code",
      "execution_count": null,
      "metadata": {
        "id": "1GHdpf1aeE-V",
        "outputId": "01bdb86f-d277-40db-c8ad-54f661855866"
      },
      "outputs": [
        {
          "data": {
            "text/plain": [
              "(2, 5)"
            ]
          },
          "execution_count": 87,
          "metadata": {},
          "output_type": "execute_result"
        }
      ],
      "source": [
        "x.shape"
      ]
    },
    {
      "cell_type": "code",
      "execution_count": null,
      "metadata": {
        "id": "71Xxp9CfeE-V",
        "outputId": "e900abd0-84d0-44c2-d9fb-cd528837133b"
      },
      "outputs": [
        {
          "data": {
            "text/plain": [
              "array([[84, 39],\n",
              "       [21, 98],\n",
              "       [60, 29],\n",
              "       [89, 13],\n",
              "       [ 3, 57]])"
            ]
          },
          "execution_count": 88,
          "metadata": {},
          "output_type": "execute_result"
        }
      ],
      "source": [
        "x.reshape((5, 2))"
      ]
    },
    {
      "cell_type": "code",
      "execution_count": null,
      "metadata": {
        "id": "C6WircqheE-V",
        "outputId": "e602ecb8-adb8-4cb0-e584-0483ae172afe"
      },
      "outputs": [
        {
          "data": {
            "text/plain": [
              "(3,)"
            ]
          },
          "execution_count": 89,
          "metadata": {},
          "output_type": "execute_result"
        }
      ],
      "source": [
        "u = np.array([1,5,6])\n",
        "u.shape"
      ]
    },
    {
      "cell_type": "code",
      "execution_count": null,
      "metadata": {
        "id": "V6X2AVpGeE-V",
        "outputId": "c21d260d-6c22-4e66-a80a-27bb5c766335"
      },
      "outputs": [
        {
          "data": {
            "text/plain": [
              "array([[1, 5, 6]])"
            ]
          },
          "execution_count": 90,
          "metadata": {},
          "output_type": "execute_result"
        }
      ],
      "source": [
        "u.reshape((1,3))"
      ]
    },
    {
      "cell_type": "code",
      "execution_count": null,
      "metadata": {
        "id": "96pyc1obeE-V",
        "outputId": "421f4e32-3e4e-44bb-a165-01ba3972a8e2"
      },
      "outputs": [
        {
          "data": {
            "text/plain": [
              "array([[1],\n",
              "       [5],\n",
              "       [6]])"
            ]
          },
          "execution_count": 91,
          "metadata": {},
          "output_type": "execute_result"
        }
      ],
      "source": [
        "u.reshape((3, 1))"
      ]
    },
    {
      "cell_type": "code",
      "execution_count": null,
      "metadata": {
        "id": "VhV1InH1eE-V",
        "outputId": "207e8316-4ba8-435d-b97d-6bf029933d45"
      },
      "outputs": [
        {
          "ename": "ValueError",
          "evalue": "cannot reshape array of size 3 into shape (2,3)",
          "output_type": "error",
          "traceback": [
            "\u001b[0;31m---------------------------------------------------------------------------\u001b[0m",
            "\u001b[0;31mValueError\u001b[0m                                Traceback (most recent call last)",
            "\u001b[0;32m<ipython-input-92-179e2c1070af>\u001b[0m in \u001b[0;36m<module>\u001b[0;34m\u001b[0m\n\u001b[0;32m----> 1\u001b[0;31m \u001b[0mu\u001b[0m\u001b[0;34m.\u001b[0m\u001b[0mreshape\u001b[0m\u001b[0;34m(\u001b[0m\u001b[0;34m(\u001b[0m\u001b[0;36m2\u001b[0m\u001b[0;34m,\u001b[0m \u001b[0;36m3\u001b[0m\u001b[0;34m)\u001b[0m\u001b[0;34m)\u001b[0m\u001b[0;34m\u001b[0m\u001b[0;34m\u001b[0m\u001b[0m\n\u001b[0m",
            "\u001b[0;31mValueError\u001b[0m: cannot reshape array of size 3 into shape (2,3)"
          ]
        }
      ],
      "source": [
        "u.reshape((2, 3))"
      ]
    },
    {
      "cell_type": "markdown",
      "metadata": {
        "id": "0-KfSQZCeE-V"
      },
      "source": [
        "## Concatener des Tableaux"
      ]
    },
    {
      "cell_type": "code",
      "execution_count": null,
      "metadata": {
        "id": "cHNYR1EMeE-V",
        "outputId": "c471dbee-f142-48a7-b85b-0f21f76dd109"
      },
      "outputs": [
        {
          "data": {
            "text/plain": [
              "array([1, 5, 6])"
            ]
          },
          "execution_count": 93,
          "metadata": {},
          "output_type": "execute_result"
        }
      ],
      "source": [
        "u"
      ]
    },
    {
      "cell_type": "code",
      "execution_count": null,
      "metadata": {
        "id": "z-ZrG59_eE-V"
      },
      "outputs": [],
      "source": [
        "v = np.array([7, 8, 9])"
      ]
    },
    {
      "cell_type": "code",
      "execution_count": null,
      "metadata": {
        "id": "g6aRKQ3teE-V",
        "outputId": "f11c61d6-a140-4648-fd42-239262123726"
      },
      "outputs": [
        {
          "data": {
            "text/plain": [
              "array([[1, 5, 6],\n",
              "       [7, 8, 9]])"
            ]
          },
          "execution_count": 95,
          "metadata": {},
          "output_type": "execute_result"
        }
      ],
      "source": [
        "tab = np.vstack([u, v])\n",
        "tab"
      ]
    },
    {
      "cell_type": "code",
      "execution_count": null,
      "metadata": {
        "id": "l5zxUPPdeE-V",
        "outputId": "47a49107-c859-4921-eead-f75465571c96"
      },
      "outputs": [
        {
          "data": {
            "text/plain": [
              "(2, 3)"
            ]
          },
          "execution_count": 96,
          "metadata": {},
          "output_type": "execute_result"
        }
      ],
      "source": [
        "tab.shape"
      ]
    },
    {
      "cell_type": "code",
      "execution_count": null,
      "metadata": {
        "id": "vCavylkreE-V",
        "outputId": "a47cbb59-15b6-4f1b-9ef8-e2baf452fc49"
      },
      "outputs": [
        {
          "data": {
            "text/plain": [
              "array([1, 5, 6, 7, 8, 9])"
            ]
          },
          "execution_count": 97,
          "metadata": {},
          "output_type": "execute_result"
        }
      ],
      "source": [
        "np.hstack([u, v])"
      ]
    },
    {
      "cell_type": "code",
      "execution_count": null,
      "metadata": {
        "id": "g5sANXHSeE-V"
      },
      "outputs": [],
      "source": []
    },
    {
      "cell_type": "code",
      "execution_count": null,
      "metadata": {
        "id": "duP77QLmeE-W",
        "outputId": "8dee0287-a463-46a8-86fd-4ddd3fdbe86d"
      },
      "outputs": [
        {
          "data": {
            "text/plain": [
              "(3,)"
            ]
          },
          "execution_count": 98,
          "metadata": {},
          "output_type": "execute_result"
        }
      ],
      "source": [
        "a = np.array([5, 9, 25])\n",
        "a.shape"
      ]
    },
    {
      "cell_type": "code",
      "execution_count": null,
      "metadata": {
        "id": "vDVrrdxieE-W",
        "outputId": "d623c483-c31e-49f0-ff4b-cd3325270460"
      },
      "outputs": [
        {
          "data": {
            "text/plain": [
              "array([[ 5,  9, 25]])"
            ]
          },
          "execution_count": 99,
          "metadata": {},
          "output_type": "execute_result"
        }
      ],
      "source": [
        "a = a.reshape((1,3))\n",
        "a"
      ]
    },
    {
      "cell_type": "code",
      "execution_count": null,
      "metadata": {
        "id": "Z4kx3HmbeE-W",
        "outputId": "9e4493c1-dd1a-4161-9cd9-6ffa6dbe11ab"
      },
      "outputs": [
        {
          "data": {
            "text/plain": [
              "array([[ 5,  9, 25],\n",
              "       [ 5,  9, 25]])"
            ]
          },
          "execution_count": 100,
          "metadata": {},
          "output_type": "execute_result"
        }
      ],
      "source": [
        "np.vstack([a, a])"
      ]
    },
    {
      "cell_type": "code",
      "execution_count": null,
      "metadata": {
        "id": "e6OXacgDeE-W",
        "outputId": "7188ff1f-5e5c-4edd-858a-c3a4498ef93f"
      },
      "outputs": [
        {
          "data": {
            "text/plain": [
              "array([[ 5,  9, 25,  5,  9, 25]])"
            ]
          },
          "execution_count": 101,
          "metadata": {},
          "output_type": "execute_result"
        }
      ],
      "source": [
        "np.hstack([a, a])"
      ]
    },
    {
      "cell_type": "code",
      "execution_count": null,
      "metadata": {
        "id": "hRpMLJ6CeE-W",
        "outputId": "53ba1187-390a-4f1c-a230-85ce303d374b"
      },
      "outputs": [
        {
          "data": {
            "text/plain": [
              "(1, 6)"
            ]
          },
          "execution_count": 102,
          "metadata": {},
          "output_type": "execute_result"
        }
      ],
      "source": [
        "np.hstack([a, a]).shape"
      ]
    },
    {
      "cell_type": "markdown",
      "metadata": {
        "id": "2raXl7qBeE-W"
      },
      "source": [
        "# Calcul sur les tableaux avec Numpy"
      ]
    },
    {
      "cell_type": "markdown",
      "metadata": {
        "id": "jJtzjjWmeE-W"
      },
      "source": [
        "## Tableau mieux que les listes ?"
      ]
    },
    {
      "cell_type": "code",
      "execution_count": null,
      "metadata": {
        "id": "2YNQS2V6eE-W",
        "outputId": "b4be9ae9-b03e-472b-e1e2-a5d1bb6ffea9"
      },
      "outputs": [
        {
          "data": {
            "text/plain": [
              "[2, 3, 4, 5, 6, 7, 8]"
            ]
          },
          "execution_count": 103,
          "metadata": {},
          "output_type": "execute_result"
        }
      ],
      "source": [
        "nombres = list(range(2, 9))\n",
        "nombres"
      ]
    },
    {
      "cell_type": "code",
      "execution_count": null,
      "metadata": {
        "id": "zWjEAQuWeE-W"
      },
      "outputs": [],
      "source": [
        "output = np.empty(len(nombres))"
      ]
    },
    {
      "cell_type": "code",
      "execution_count": null,
      "metadata": {
        "id": "cLpEwcuKeE-W",
        "outputId": "6a1872ec-f1b8-47e4-c889-a1c75fb070ed"
      },
      "outputs": [
        {
          "data": {
            "text/plain": [
              "array([4.6662084e-310, 0.0000000e+000, 0.0000000e+000, 0.0000000e+000,\n",
              "       0.0000000e+000, 0.0000000e+000, 3.1620201e-322])"
            ]
          },
          "execution_count": 105,
          "metadata": {},
          "output_type": "execute_result"
        }
      ],
      "source": [
        "output"
      ]
    },
    {
      "cell_type": "code",
      "execution_count": null,
      "metadata": {
        "id": "xrzUuAxceE-W",
        "outputId": "c92b7118-cc81-4746-b027-ce75f96299ea"
      },
      "outputs": [
        {
          "data": {
            "text/plain": [
              "array([0.5       , 0.33333333, 0.25      , 0.2       , 0.16666667,\n",
              "       0.14285714, 0.125     ])"
            ]
          },
          "execution_count": 106,
          "metadata": {},
          "output_type": "execute_result"
        }
      ],
      "source": [
        "for i, n in enumerate(nombres):\n",
        "  output[i] = 1 / n\n",
        "output"
      ]
    },
    {
      "cell_type": "code",
      "execution_count": null,
      "metadata": {
        "id": "Qlfx-_1keE-W",
        "outputId": "524d4bc8-0744-4610-c76c-219c3a97db71"
      },
      "outputs": [
        {
          "data": {
            "text/plain": [
              "array([2, 3, 4, 5, 6, 7, 8])"
            ]
          },
          "execution_count": 107,
          "metadata": {},
          "output_type": "execute_result"
        }
      ],
      "source": [
        "nombres_tab = np.array(nombres)\n",
        "nombres_tab"
      ]
    },
    {
      "cell_type": "code",
      "execution_count": null,
      "metadata": {
        "id": "q1rXLYqTeE-W",
        "outputId": "119b8ea2-201e-444b-a79c-c5392b347311"
      },
      "outputs": [
        {
          "data": {
            "text/plain": [
              "array([0.5       , 0.33333333, 0.25      , 0.2       , 0.16666667,\n",
              "       0.14285714, 0.125     ])"
            ]
          },
          "execution_count": 108,
          "metadata": {},
          "output_type": "execute_result"
        }
      ],
      "source": [
        "1 / nombres_tab"
      ]
    },
    {
      "cell_type": "code",
      "execution_count": null,
      "metadata": {
        "id": "g55gFnIBeE-X"
      },
      "outputs": [],
      "source": [
        "import time"
      ]
    },
    {
      "cell_type": "code",
      "execution_count": null,
      "metadata": {
        "id": "OIQBYOLweE-X",
        "outputId": "20185e37-a215-44e7-c3a1-d7d24e81eb7e"
      },
      "outputs": [
        {
          "name": "stdout",
          "output_type": "stream",
          "text": [
            "1.5880019664764404\n"
          ]
        }
      ],
      "source": [
        "nombres = list(range(2, 10_000_000))\n",
        "output = np.empty(len(nombres))\n",
        "debut = time.time()\n",
        "for i, n in enumerate(nombres):\n",
        "  output[i] = 1 / n\n",
        "fin  = time.time()\n",
        "print(fin-debut)"
      ]
    },
    {
      "cell_type": "code",
      "execution_count": null,
      "metadata": {
        "id": "3QKvXmPPeE-X",
        "outputId": "3895bc02-3946-4d6c-d2ba-ea751b4014c0"
      },
      "outputs": [
        {
          "name": "stdout",
          "output_type": "stream",
          "text": [
            "0.04231858253479004\n"
          ]
        }
      ],
      "source": [
        "debut = time.time()\n",
        "1 / np.arange(2, 10_000_000)\n",
        "fin  = time.time()\n",
        "print(fin-debut)"
      ]
    },
    {
      "cell_type": "markdown",
      "metadata": {
        "id": "S5TsEk82eE-X"
      },
      "source": [
        "## Vectorisation"
      ]
    },
    {
      "cell_type": "code",
      "execution_count": null,
      "metadata": {
        "id": "0TXAVRsueE-X",
        "outputId": "7fe74995-9d80-4985-f7bb-b8c4f6ac8e7a"
      },
      "outputs": [
        {
          "data": {
            "text/plain": [
              "[25, 64, 81]"
            ]
          },
          "execution_count": 112,
          "metadata": {},
          "output_type": "execute_result"
        }
      ],
      "source": [
        "l = [5, 8, 9]\n",
        "[n**2 for n in l]"
      ]
    },
    {
      "cell_type": "code",
      "execution_count": null,
      "metadata": {
        "id": "RApQ2zKOeE-X",
        "outputId": "2777a733-554f-44a5-884f-380acb0d42c3"
      },
      "outputs": [
        {
          "data": {
            "text/plain": [
              "array([25, 64, 81])"
            ]
          },
          "execution_count": 113,
          "metadata": {},
          "output_type": "execute_result"
        }
      ],
      "source": [
        "np.array(l) ** 2"
      ]
    },
    {
      "cell_type": "code",
      "execution_count": null,
      "metadata": {
        "id": "LDFFYG9neE-X",
        "outputId": "ad0b90c2-a732-42f5-83fd-3035b444a967"
      },
      "outputs": [
        {
          "data": {
            "text/plain": [
              "array([ 6.5,  9.5, 10.5])"
            ]
          },
          "execution_count": 114,
          "metadata": {},
          "output_type": "execute_result"
        }
      ],
      "source": [
        "np.array(l)  + 1.5"
      ]
    },
    {
      "cell_type": "markdown",
      "metadata": {
        "id": "ao84Ts6CeE-X"
      },
      "source": [
        "# Aggregation"
      ]
    },
    {
      "cell_type": "code",
      "execution_count": null,
      "metadata": {
        "id": "so6R6jq3eE-X",
        "outputId": "3d12bace-6a95-4bf2-9f2f-e35845dd122f"
      },
      "outputs": [
        {
          "data": {
            "text/plain": [
              "[5, 8, 9]"
            ]
          },
          "execution_count": 115,
          "metadata": {},
          "output_type": "execute_result"
        }
      ],
      "source": [
        "l"
      ]
    },
    {
      "cell_type": "code",
      "execution_count": null,
      "metadata": {
        "id": "iyiQeHi6eE-X",
        "outputId": "dc26903c-a350-4b2f-cc85-0800f80098bc"
      },
      "outputs": [
        {
          "data": {
            "text/plain": [
              "5"
            ]
          },
          "execution_count": 116,
          "metadata": {},
          "output_type": "execute_result"
        }
      ],
      "source": [
        "min(l)"
      ]
    },
    {
      "cell_type": "code",
      "execution_count": null,
      "metadata": {
        "id": "Wa9sAksaeE-X",
        "outputId": "3a661859-2d5e-47da-ac14-3982f4f1a2ad"
      },
      "outputs": [
        {
          "data": {
            "text/plain": [
              "5"
            ]
          },
          "execution_count": 117,
          "metadata": {},
          "output_type": "execute_result"
        }
      ],
      "source": [
        "np.min(l)"
      ]
    },
    {
      "cell_type": "code",
      "execution_count": null,
      "metadata": {
        "id": "sm0kKcibeE-X",
        "outputId": "ca312ebe-0887-4814-a5fc-a9d87b76b207"
      },
      "outputs": [
        {
          "data": {
            "text/plain": [
              "5"
            ]
          },
          "execution_count": 118,
          "metadata": {},
          "output_type": "execute_result"
        }
      ],
      "source": [
        "np.array(l).min()"
      ]
    },
    {
      "cell_type": "code",
      "execution_count": null,
      "metadata": {
        "id": "ISx8XPddeE-X",
        "outputId": "9a424102-e63d-45c3-9121-bdc2926cd17d"
      },
      "outputs": [
        {
          "data": {
            "text/plain": [
              "array([[12,  5,  0],\n",
              "       [ 3, 11,  3],\n",
              "       [ 7,  9,  3],\n",
              "       [ 5,  2,  4],\n",
              "       [ 7,  6,  8]])"
            ]
          },
          "execution_count": 119,
          "metadata": {},
          "output_type": "execute_result"
        }
      ],
      "source": [
        "np.random.seed(0)\n",
        "tab = np.random.randint(15, size=(5, 3))\n",
        "tab"
      ]
    },
    {
      "cell_type": "code",
      "execution_count": null,
      "metadata": {
        "id": "K2nQS7L5eE-Y",
        "outputId": "ef27f0ac-7e0c-4c35-86ba-ce942dad00b9"
      },
      "outputs": [
        {
          "ename": "ValueError",
          "evalue": "The truth value of an array with more than one element is ambiguous. Use a.any() or a.all()",
          "output_type": "error",
          "traceback": [
            "\u001b[0;31m---------------------------------------------------------------------------\u001b[0m",
            "\u001b[0;31mValueError\u001b[0m                                Traceback (most recent call last)",
            "\u001b[0;32m<ipython-input-120-5daf23e4d635>\u001b[0m in \u001b[0;36m<module>\u001b[0;34m\u001b[0m\n\u001b[0;32m----> 1\u001b[0;31m \u001b[0mmin\u001b[0m\u001b[0;34m(\u001b[0m\u001b[0mtab\u001b[0m\u001b[0;34m)\u001b[0m\u001b[0;34m\u001b[0m\u001b[0;34m\u001b[0m\u001b[0m\n\u001b[0m",
            "\u001b[0;31mValueError\u001b[0m: The truth value of an array with more than one element is ambiguous. Use a.any() or a.all()"
          ]
        }
      ],
      "source": [
        "min(tab)"
      ]
    },
    {
      "cell_type": "code",
      "execution_count": null,
      "metadata": {
        "id": "sxSevmI1eE-Y",
        "outputId": "c825bee1-f560-4ad6-e8cc-9acf4135db36"
      },
      "outputs": [
        {
          "data": {
            "text/plain": [
              "0"
            ]
          },
          "execution_count": 121,
          "metadata": {},
          "output_type": "execute_result"
        }
      ],
      "source": [
        "np.min(tab)"
      ]
    },
    {
      "cell_type": "code",
      "execution_count": null,
      "metadata": {
        "id": "aWZUiZjGeE-Y",
        "outputId": "3f4ed838-b619-4799-b4e8-f86d19bfe3fd"
      },
      "outputs": [
        {
          "data": {
            "text/plain": [
              "0"
            ]
          },
          "execution_count": 122,
          "metadata": {},
          "output_type": "execute_result"
        }
      ],
      "source": [
        "tab.min()"
      ]
    },
    {
      "cell_type": "code",
      "execution_count": null,
      "metadata": {
        "id": "-fHZuT4GeE-Y",
        "outputId": "68f99382-0490-481b-fcca-2cfa1701bfe1"
      },
      "outputs": [
        {
          "data": {
            "text/plain": [
              "array([3, 2, 0])"
            ]
          },
          "execution_count": 123,
          "metadata": {},
          "output_type": "execute_result"
        }
      ],
      "source": [
        "np.min(tab, axis= 0) # Minimum de chaque colonne"
      ]
    },
    {
      "cell_type": "code",
      "execution_count": null,
      "metadata": {
        "id": "NlVsm7iKeE-Y",
        "outputId": "54b83967-a4f5-4314-e194-b1ae7c26f798"
      },
      "outputs": [
        {
          "data": {
            "text/plain": [
              "array([0, 3, 3, 2, 6])"
            ]
          },
          "execution_count": 125,
          "metadata": {},
          "output_type": "execute_result"
        }
      ],
      "source": [
        "np.min(tab, axis= 1) #Minimum de chaque ligne"
      ]
    },
    {
      "cell_type": "code",
      "execution_count": null,
      "metadata": {
        "id": "DMBLDUOceE-Y",
        "outputId": "90c130f2-0bc1-4967-9589-14ce00755526"
      },
      "outputs": [
        {
          "data": {
            "text/plain": [
              "array([5.66666667, 5.66666667, 6.33333333, 3.66666667, 7.        ])"
            ]
          },
          "execution_count": 126,
          "metadata": {},
          "output_type": "execute_result"
        }
      ],
      "source": [
        "np.mean(tab, axis= 1) # Moyenne de chaque ligne"
      ]
    },
    {
      "cell_type": "code",
      "execution_count": null,
      "metadata": {
        "id": "enjkPDnOeE-Y",
        "outputId": "5182feac-7580-42ed-dc47-39242eaba8fb"
      },
      "outputs": [
        {
          "data": {
            "text/plain": [
              "array([34, 33, 18])"
            ]
          },
          "execution_count": 127,
          "metadata": {},
          "output_type": "execute_result"
        }
      ],
      "source": [
        "np.sum(tab, axis= 0) # somme de chque colonne"
      ]
    },
    {
      "cell_type": "markdown",
      "metadata": {
        "id": "wz5zRW7seE-Y"
      },
      "source": [
        "## Cas d'analyse"
      ]
    },
    {
      "cell_type": "code",
      "execution_count": null,
      "metadata": {
        "id": "BhZ4QBYweE-Y",
        "outputId": "088b43a5-f101-478f-e2eb-375cc84a787b"
      },
      "outputs": [
        {
          "data": {
            "text/plain": [
              "array([[12,  1,  6],\n",
              "       [ 7, 14, 17],\n",
              "       [ 5, 13,  8],\n",
              "       [ 9, 16,  5],\n",
              "       [15, 15,  0],\n",
              "       [18,  3, 17],\n",
              "       [14,  7,  0],\n",
              "       [ 1,  9,  0],\n",
              "       [10,  3, 11],\n",
              "       [18,  2,  0]])"
            ]
          },
          "execution_count": 128,
          "metadata": {},
          "output_type": "execute_result"
        }
      ],
      "source": [
        "notes = np.random.randint(19, size=(10, 3))\n",
        "notes"
      ]
    },
    {
      "cell_type": "markdown",
      "metadata": {
        "id": "ulk8KEk1eE-Y"
      },
      "source": [
        "Chaque ligne représente les notes d'un étudiant en Maths, Physique et Biologie"
      ]
    },
    {
      "cell_type": "code",
      "execution_count": null,
      "metadata": {
        "id": "VparsMjLeE-Y",
        "outputId": "2b21981c-cef3-4d8f-d085-5893fb33ecdf"
      },
      "outputs": [
        {
          "data": {
            "text/plain": [
              "(10, 3)"
            ]
          },
          "execution_count": 129,
          "metadata": {},
          "output_type": "execute_result"
        }
      ],
      "source": [
        "notes.shape"
      ]
    },
    {
      "cell_type": "markdown",
      "metadata": {
        "id": "dlS35H__eE-Y"
      },
      "source": [
        "Quelle est la moyenne dans chaque matière ?"
      ]
    },
    {
      "cell_type": "code",
      "execution_count": null,
      "metadata": {
        "id": "9c9j9xeheE-Y",
        "outputId": "daa8ed98-6ce1-4ca8-912a-100da2e063fd"
      },
      "outputs": [
        {
          "data": {
            "text/plain": [
              "array([10.9,  8.3,  6.4])"
            ]
          },
          "execution_count": 130,
          "metadata": {},
          "output_type": "execute_result"
        }
      ],
      "source": [
        "notes.mean(axis=0)\n",
        "#np.mean(notes, axis=0)"
      ]
    },
    {
      "cell_type": "markdown",
      "metadata": {
        "id": "5puzn5beeE-Y"
      },
      "source": [
        "Quelle est la moyenne par étudiant ?"
      ]
    },
    {
      "cell_type": "code",
      "execution_count": null,
      "metadata": {
        "id": "NkW7EdcfeE-Y",
        "outputId": "e89f1b02-9d6a-45fd-fe2e-8379840fabfd"
      },
      "outputs": [
        {
          "data": {
            "text/plain": [
              "array([ 6.33333333, 12.66666667,  8.66666667, 10.        , 10.        ,\n",
              "       12.66666667,  7.        ,  3.33333333,  8.        ,  6.66666667])"
            ]
          },
          "execution_count": 131,
          "metadata": {},
          "output_type": "execute_result"
        }
      ],
      "source": [
        "moy_per_student = np.mean(notes, axis=1)\n",
        "moy_per_student"
      ]
    },
    {
      "cell_type": "markdown",
      "metadata": {
        "id": "hGwTLhQNeE-Y"
      },
      "source": [
        "Combien  d'étudiants ont une note supérieure à 10 :"
      ]
    },
    {
      "cell_type": "code",
      "execution_count": null,
      "metadata": {
        "id": "2ieg_gPJeE-Z",
        "outputId": "85d48fc1-fd9f-406d-b5b6-b8608c238617"
      },
      "outputs": [
        {
          "data": {
            "text/plain": [
              "array([False,  True, False,  True,  True,  True, False, False, False,\n",
              "       False])"
            ]
          },
          "execution_count": 132,
          "metadata": {},
          "output_type": "execute_result"
        }
      ],
      "source": [
        "moy_per_student >= 10"
      ]
    },
    {
      "cell_type": "code",
      "execution_count": null,
      "metadata": {
        "id": "R6cbtoaAeE-Z",
        "outputId": "6df177f5-80d5-4196-9149-6ab5871d95a2"
      },
      "outputs": [
        {
          "data": {
            "text/plain": [
              "2"
            ]
          },
          "execution_count": 134,
          "metadata": {},
          "output_type": "execute_result"
        }
      ],
      "source": [
        "np.sum([0, 1, 1, 0])"
      ]
    },
    {
      "cell_type": "code",
      "execution_count": null,
      "metadata": {
        "id": "OENZxoGzeE-Z",
        "outputId": "a8f71f8a-b3b3-4e3a-cfc5-0eb5b19d4335"
      },
      "outputs": [
        {
          "data": {
            "text/plain": [
              "2"
            ]
          },
          "execution_count": 135,
          "metadata": {},
          "output_type": "execute_result"
        }
      ],
      "source": [
        "np.sum([False,  True, True, False])"
      ]
    },
    {
      "cell_type": "code",
      "execution_count": null,
      "metadata": {
        "id": "_04q_IqqeE-Z",
        "outputId": "fd8ced1e-566e-4e67-af6e-de9b58d0a609"
      },
      "outputs": [
        {
          "data": {
            "text/plain": [
              "4"
            ]
          },
          "execution_count": 136,
          "metadata": {},
          "output_type": "execute_result"
        }
      ],
      "source": [
        "np.sum(moy_per_student >= 10)"
      ]
    },
    {
      "cell_type": "markdown",
      "metadata": {
        "id": "ZDK_-PhCeE-Z"
      },
      "source": [
        "4 étudiants ont plus de 10."
      ]
    },
    {
      "cell_type": "code",
      "execution_count": null,
      "metadata": {
        "id": "DW_tWYkueE-Z"
      },
      "outputs": [],
      "source": []
    }
  ],
  "metadata": {
    "kernelspec": {
      "display_name": "Python 3",
      "language": "python",
      "name": "python3"
    },
    "language_info": {
      "codemirror_mode": {
        "name": "ipython",
        "version": 3
      },
      "file_extension": ".py",
      "mimetype": "text/x-python",
      "name": "python",
      "nbconvert_exporter": "python",
      "pygments_lexer": "ipython3",
      "version": "3.7.6"
    },
    "colab": {
      "provenance": []
    }
  },
  "nbformat": 4,
  "nbformat_minor": 0
}